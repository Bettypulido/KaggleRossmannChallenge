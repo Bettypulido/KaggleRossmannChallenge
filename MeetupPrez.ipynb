{
 "cells": [
  {
   "cell_type": "markdown",
   "metadata": {
    "slideshow": {
     "slide_type": "slide"
    }
   },
   "source": [
    "# The Kaggle Rossmann Challenge: \n",
    "# Gradient Boosting vs. Deep Learning\n",
    "\n",
    "<br><br><br>\n",
    "\n",
    "## Ágoston Török, Krisztián Varga, Ádám Divák, Balázs Fehér PhD"
   ]
  },
  {
   "cell_type": "markdown",
   "metadata": {
    "slideshow": {
     "slide_type": "slide"
    }
   },
   "source": [
    "# Who we are\n",
    "\n",
    "## Ágoston\n",
    "\n",
    "- Data scientist @Synetiq\n",
    "- Junior researcher @MTA TTK Brain Imaging Centre\n",
    "- Lecturer & phd candidate @ELTE \n",
    "\n",
    "## Balázs\n",
    "- Data scientist @Deloitte | London from March 2016\n",
    "- Data scientist @Infomatix | Budapest Nov 2015 - Feb 2016\n",
    "- PhD in Cognitive Science | Saarbrücken 2011 - 2015\n",
    "\n",
    "## Krisztián\n",
    "\n",
    "- Research Engineer @Bell Labs, Nokia \n",
    "\n",
    "\n",
    "## Ádám\n",
    "- CTO @Synetiq\n"
   ]
  },
  {
   "cell_type": "markdown",
   "metadata": {
    "slideshow": {
     "slide_type": "subslide"
    }
   },
   "source": [
    "# Why compete on Kaggle\n",
    "\n",
    "- Fame and ~~Fortune~~\n",
    "- It is fun\n",
    "- It is learning"
   ]
  },
  {
   "cell_type": "markdown",
   "metadata": {
    "slideshow": {
     "slide_type": "slide"
    }
   },
   "source": [
    "# Let's get started"
   ]
  },
  {
   "cell_type": "code",
   "execution_count": 1,
   "metadata": {
    "collapsed": false,
    "scrolled": true
   },
   "outputs": [
    {
     "name": "stdout",
     "output_type": "stream",
     "text": [
      "Populating the interactive namespace from numpy and matplotlib\n",
      "Rossmann Helper Functions imported\n"
     ]
    }
   ],
   "source": [
    "%matplotlib inline\n",
    "%pylab inline\n",
    "\n",
    "import pandas as pd\n",
    "import matplotlib.pyplot as plt\n",
    "import seaborn as sns\n",
    "import warnings as w\n",
    "\n",
    "import rossmann_helper_functions as rosshellfun #:)\n",
    "\n",
    "sns.set_style('whitegrid')\n",
    "pd.set_option('display.max_columns', None)\n",
    "w.filterwarnings(\"ignore\", category=DeprecationWarning) \n",
    "w.filterwarnings(\"ignore\", category=FutureWarning) "
   ]
  },
  {
   "cell_type": "markdown",
   "metadata": {
    "collapsed": true,
    "slideshow": {
     "slide_type": "subslide"
    }
   },
   "source": [
    "<h1>First look at the competition data</h1>\n",
    "<br>\n",
    "<table style=\"border:0\" width=\"100%\">\n",
    "    <tr style=\"border:0\">\n",
    "        <td style=\"font-size: 18px; line-height: 1.5; border: 0; vertical-align: top;\">\n",
    "            <img src=\"csv1.png\">\n",
    "            <center>\n",
    "            <b>Training data set<br>\n",
    "            train.csv</b><br>\n",
    "            <br>\n",
    "            <div style=\"margin: auto; text-align: left; display: inline-block\">\n",
    "            - 3.5 years of sales data<br>\n",
    "            - number of customers<br>\n",
    "            - promotion activities<br>\n",
    "            - store opening hours<br>\n",
    "            - state / school holiday details<br>\n",
    "            </div>\n",
    "            </center>\n",
    "        </td>\n",
    "\n",
    "        <td style=\"font-size: 18px; line-height: 1.5; border: 0; vertical-align: top;\">\n",
    "            <img src=\"csv2.png\">\n",
    "            <center>\n",
    "            <b>Store details<br>\n",
    "            stores.csv</b><br>\n",
    "            <br>\n",
    "            <div style=\"margin: auto; text-align: left; display: inline-block\">\n",
    "             - store type code<br>\n",
    "             - assortment type code<br>\n",
    "             - long term promotions<br>\n",
    "             - nearest competition<br>\n",
    "             - locality unknown<br>\n",
    "            </div>\n",
    "            </center>\n",
    "        </td>\n",
    "\n",
    "        <td style=\"font-size: 18px; line-height: 1.5; border: 0; vertical-align: top;\">\n",
    "            <img src=\"csv3.png\">\n",
    "            <center>\n",
    "            <b>Test data set<br>\n",
    "            test.csv</b><br>\n",
    "            <br>\n",
    "            <div style=\"margin: auto; text-align: left; display: inline-block\">\n",
    "            - same as train.csv<br>\n",
    "            - no sales and customer data<br>\n",
    "            </div>\n",
    "            </center>\n",
    "        </td>\n",
    "    </tr>\n",
    "</table>"
   ]
  },
  {
   "cell_type": "markdown",
   "metadata": {
    "slideshow": {
     "slide_type": "subslide"
    }
   },
   "source": [
    "## Load the training, store and test data using pandas"
   ]
  },
  {
   "cell_type": "code",
   "execution_count": 2,
   "metadata": {
    "collapsed": false,
    "slideshow": {
     "slide_type": "-"
    }
   },
   "outputs": [],
   "source": [
    "types = {\n",
    "    'CompetitionOpenSinceYear': np.dtype(int),\n",
    "    'CompetitionOpenSinceMonth': np.dtype(int),\n",
    "    'StateHoliday': np.dtype(str),\n",
    "    'Promo2SinceWeek': np.dtype(int),\n",
    "    'SchoolHoliday': np.dtype(int),\n",
    "    'PromoInterval': np.dtype(str)\n",
    "}\n",
    "train = pd.read_csv(\"../train.csv\", parse_dates=[2], dtype=types)\n",
    "test  = pd.read_csv(\"../test.csv\",  parse_dates=[3], dtype=types)\n",
    "store = pd.read_csv(\"../store.csv\")\n",
    "\n",
    "train['Day']   = train.Date.dt.day\n",
    "train['Month'] = train.Date.dt.month\n",
    "train['Year']  = train.Date.dt.year\n",
    "\n",
    "train.sort(['Store','Year','Month','Day'], inplace = True)"
   ]
  },
  {
   "cell_type": "code",
   "execution_count": 3,
   "metadata": {
    "collapsed": false,
    "scrolled": true,
    "slideshow": {
     "slide_type": "-"
    }
   },
   "outputs": [
    {
     "data": {
      "text/html": [
       "<div>\n",
       "<table border=\"1\" class=\"dataframe\">\n",
       "  <thead>\n",
       "    <tr style=\"text-align: right;\">\n",
       "      <th></th>\n",
       "      <th>Store</th>\n",
       "      <th>DayOfWeek</th>\n",
       "      <th>Date</th>\n",
       "      <th>Sales</th>\n",
       "      <th>Customers</th>\n",
       "      <th>Open</th>\n",
       "      <th>Promo</th>\n",
       "      <th>StateHoliday</th>\n",
       "      <th>SchoolHoliday</th>\n",
       "      <th>Day</th>\n",
       "      <th>Month</th>\n",
       "      <th>Year</th>\n",
       "    </tr>\n",
       "  </thead>\n",
       "  <tbody>\n",
       "    <tr>\n",
       "      <th>1016095</th>\n",
       "      <td>1</td>\n",
       "      <td>2</td>\n",
       "      <td>2013-01-01</td>\n",
       "      <td>0</td>\n",
       "      <td>0</td>\n",
       "      <td>0</td>\n",
       "      <td>0</td>\n",
       "      <td>a</td>\n",
       "      <td>1</td>\n",
       "      <td>1</td>\n",
       "      <td>1</td>\n",
       "      <td>2013</td>\n",
       "    </tr>\n",
       "    <tr>\n",
       "      <th>1014980</th>\n",
       "      <td>1</td>\n",
       "      <td>3</td>\n",
       "      <td>2013-01-02</td>\n",
       "      <td>5530</td>\n",
       "      <td>668</td>\n",
       "      <td>1</td>\n",
       "      <td>0</td>\n",
       "      <td>0</td>\n",
       "      <td>1</td>\n",
       "      <td>2</td>\n",
       "      <td>1</td>\n",
       "      <td>2013</td>\n",
       "    </tr>\n",
       "    <tr>\n",
       "      <th>1013865</th>\n",
       "      <td>1</td>\n",
       "      <td>4</td>\n",
       "      <td>2013-01-03</td>\n",
       "      <td>4327</td>\n",
       "      <td>578</td>\n",
       "      <td>1</td>\n",
       "      <td>0</td>\n",
       "      <td>0</td>\n",
       "      <td>1</td>\n",
       "      <td>3</td>\n",
       "      <td>1</td>\n",
       "      <td>2013</td>\n",
       "    </tr>\n",
       "    <tr>\n",
       "      <th>1012750</th>\n",
       "      <td>1</td>\n",
       "      <td>5</td>\n",
       "      <td>2013-01-04</td>\n",
       "      <td>4486</td>\n",
       "      <td>619</td>\n",
       "      <td>1</td>\n",
       "      <td>0</td>\n",
       "      <td>0</td>\n",
       "      <td>1</td>\n",
       "      <td>4</td>\n",
       "      <td>1</td>\n",
       "      <td>2013</td>\n",
       "    </tr>\n",
       "    <tr>\n",
       "      <th>1011635</th>\n",
       "      <td>1</td>\n",
       "      <td>6</td>\n",
       "      <td>2013-01-05</td>\n",
       "      <td>4997</td>\n",
       "      <td>635</td>\n",
       "      <td>1</td>\n",
       "      <td>0</td>\n",
       "      <td>0</td>\n",
       "      <td>1</td>\n",
       "      <td>5</td>\n",
       "      <td>1</td>\n",
       "      <td>2013</td>\n",
       "    </tr>\n",
       "  </tbody>\n",
       "</table>\n",
       "</div>"
      ],
      "text/plain": [
       "         Store  DayOfWeek       Date  Sales  Customers  Open  Promo  \\\n",
       "1016095      1          2 2013-01-01      0          0     0      0   \n",
       "1014980      1          3 2013-01-02   5530        668     1      0   \n",
       "1013865      1          4 2013-01-03   4327        578     1      0   \n",
       "1012750      1          5 2013-01-04   4486        619     1      0   \n",
       "1011635      1          6 2013-01-05   4997        635     1      0   \n",
       "\n",
       "        StateHoliday  SchoolHoliday  Day  Month  Year  \n",
       "1016095            a              1    1      1  2013  \n",
       "1014980            0              1    2      1  2013  \n",
       "1013865            0              1    3      1  2013  \n",
       "1012750            0              1    4      1  2013  \n",
       "1011635            0              1    5      1  2013  "
      ]
     },
     "execution_count": 3,
     "metadata": {},
     "output_type": "execute_result"
    }
   ],
   "source": [
    "train.head(5)"
   ]
  },
  {
   "cell_type": "code",
   "execution_count": 4,
   "metadata": {
    "collapsed": false,
    "slideshow": {
     "slide_type": "-"
    }
   },
   "outputs": [
    {
     "data": {
      "text/html": [
       "<div>\n",
       "<table border=\"1\" class=\"dataframe\">\n",
       "  <thead>\n",
       "    <tr style=\"text-align: right;\">\n",
       "      <th></th>\n",
       "      <th>Id</th>\n",
       "      <th>Store</th>\n",
       "      <th>DayOfWeek</th>\n",
       "      <th>Date</th>\n",
       "      <th>Open</th>\n",
       "      <th>Promo</th>\n",
       "      <th>StateHoliday</th>\n",
       "      <th>SchoolHoliday</th>\n",
       "    </tr>\n",
       "  </thead>\n",
       "  <tbody>\n",
       "    <tr>\n",
       "      <th>0</th>\n",
       "      <td>1</td>\n",
       "      <td>1</td>\n",
       "      <td>4</td>\n",
       "      <td>2015-09-17</td>\n",
       "      <td>1</td>\n",
       "      <td>1</td>\n",
       "      <td>0</td>\n",
       "      <td>0</td>\n",
       "    </tr>\n",
       "    <tr>\n",
       "      <th>1</th>\n",
       "      <td>2</td>\n",
       "      <td>3</td>\n",
       "      <td>4</td>\n",
       "      <td>2015-09-17</td>\n",
       "      <td>1</td>\n",
       "      <td>1</td>\n",
       "      <td>0</td>\n",
       "      <td>0</td>\n",
       "    </tr>\n",
       "    <tr>\n",
       "      <th>2</th>\n",
       "      <td>3</td>\n",
       "      <td>7</td>\n",
       "      <td>4</td>\n",
       "      <td>2015-09-17</td>\n",
       "      <td>1</td>\n",
       "      <td>1</td>\n",
       "      <td>0</td>\n",
       "      <td>0</td>\n",
       "    </tr>\n",
       "    <tr>\n",
       "      <th>3</th>\n",
       "      <td>4</td>\n",
       "      <td>8</td>\n",
       "      <td>4</td>\n",
       "      <td>2015-09-17</td>\n",
       "      <td>1</td>\n",
       "      <td>1</td>\n",
       "      <td>0</td>\n",
       "      <td>0</td>\n",
       "    </tr>\n",
       "    <tr>\n",
       "      <th>4</th>\n",
       "      <td>5</td>\n",
       "      <td>9</td>\n",
       "      <td>4</td>\n",
       "      <td>2015-09-17</td>\n",
       "      <td>1</td>\n",
       "      <td>1</td>\n",
       "      <td>0</td>\n",
       "      <td>0</td>\n",
       "    </tr>\n",
       "  </tbody>\n",
       "</table>\n",
       "</div>"
      ],
      "text/plain": [
       "   Id  Store  DayOfWeek       Date  Open  Promo StateHoliday  SchoolHoliday\n",
       "0   1      1          4 2015-09-17     1      1            0              0\n",
       "1   2      3          4 2015-09-17     1      1            0              0\n",
       "2   3      7          4 2015-09-17     1      1            0              0\n",
       "3   4      8          4 2015-09-17     1      1            0              0\n",
       "4   5      9          4 2015-09-17     1      1            0              0"
      ]
     },
     "execution_count": 4,
     "metadata": {},
     "output_type": "execute_result"
    }
   ],
   "source": [
    "test.head(5)"
   ]
  },
  {
   "cell_type": "markdown",
   "metadata": {
    "slideshow": {
     "slide_type": "slide"
    }
   },
   "source": [
    "# Exploration and preparation"
   ]
  },
  {
   "cell_type": "markdown",
   "metadata": {
    "slideshow": {
     "slide_type": "fragment"
    }
   },
   "source": [
    "### - Explore the data"
   ]
  },
  {
   "cell_type": "markdown",
   "metadata": {
    "slideshow": {
     "slide_type": "fragment"
    }
   },
   "source": [
    "### - Drop bad values and impute missing ones"
   ]
  },
  {
   "cell_type": "markdown",
   "metadata": {
    "slideshow": {
     "slide_type": "fragment"
    }
   },
   "source": [
    "### - Feature widening"
   ]
  },
  {
   "cell_type": "markdown",
   "metadata": {
    "slideshow": {
     "slide_type": "slide"
    }
   },
   "source": [
    "## Data exploration – days of week\n",
    "### Sundays (where open) and Mondays dominate\n"
   ]
  },
  {
   "cell_type": "code",
   "execution_count": 5,
   "metadata": {
    "collapsed": false,
    "slideshow": {
     "slide_type": "fragment"
    }
   },
   "outputs": [
    {
     "data": {
      "text/plain": [
       "<module 'matplotlib.pyplot' from 'c:\\\\python34\\\\lib\\\\site-packages\\\\matplotlib\\\\pyplot.py'>"
      ]
     },
     "execution_count": 5,
     "metadata": {},
     "output_type": "execute_result"
    },
    {
     "data": {
      "image/png": "[encoded data removed]",
      "text/plain": [
       "<matplotlib.figure.Figure at 0x81be978>"
      ]
     },
     "metadata": {},
     "output_type": "display_data"
    }
   ],
   "source": [
    "fig, (axis1) = plt.subplots(1, 1, figsize=(15,4))\n",
    "train_plot = train[train[\"Open\"] == 1]\n",
    "sns.boxplot(x='DayOfWeek',y='Sales', data=train_plot.sort('DayOfWeek'), palette=\"husl\", ax=axis1)\n",
    "plt"
   ]
  },
  {
   "cell_type": "code",
   "execution_count": 6,
   "metadata": {
    "collapsed": false,
    "slideshow": {
     "slide_type": "-"
    }
   },
   "outputs": [
    {
     "data": {
      "text/plain": [
       "(3000, 12500)"
      ]
     },
     "execution_count": 6,
     "metadata": {},
     "output_type": "execute_result"
    },
    {
     "data": {
      "image/png": "[encoded data removed]",
      "text/plain": [
       "<matplotlib.figure.Figure at 0x90a80f0>"
      ]
     },
     "metadata": {},
     "output_type": "display_data"
    }
   ],
   "source": [
    "fig, (axis1) = plt.subplots(1, 1, figsize=(15,4))\n",
    "train_plot = train[train[\"Open\"] == 1]\n",
    "sns.boxplot(x='DayOfWeek',y='Sales', data=train_plot.sort('DayOfWeek'), palette=\"husl\", ax=axis1)\n",
    "plt.ylim(ymax=12500, ymin=3000)"
   ]
  },
  {
   "cell_type": "markdown",
   "metadata": {
    "slideshow": {
     "slide_type": "slide"
    }
   },
   "source": [
    "# Data exploration – days of month\n",
    "\n",
    "### „Payday waves”, otherwise stable"
   ]
  },
  {
   "cell_type": "code",
   "execution_count": 7,
   "metadata": {
    "collapsed": false,
    "slideshow": {
     "slide_type": "fragment"
    }
   },
   "outputs": [
    {
     "data": {
      "text/plain": [
       "<matplotlib.axes._subplots.AxesSubplot at 0x8ada588>"
      ]
     },
     "execution_count": 7,
     "metadata": {},
     "output_type": "execute_result"
    },
    {
     "data": {
      "image/png": "[encoded data removed]",
      "text/plain": [
       "<matplotlib.figure.Figure at 0x819c8d0>"
      ]
     },
     "metadata": {},
     "output_type": "display_data"
    }
   ],
   "source": [
    "fig, (axis1) = plt.subplots(1, 1, figsize=(15,7))\n",
    "sns.boxplot(x='Day',y='Sales', data=train_plot.sort('Day'), palette=\"husl\", ax=axis1)"
   ]
  },
  {
   "cell_type": "markdown",
   "metadata": {
    "slideshow": {
     "slide_type": "slide"
    }
   },
   "source": [
    "# Data exploration – Closing periods"
   ]
  },
  {
   "cell_type": "markdown",
   "metadata": {
    "slideshow": {
     "slide_type": "fragment"
    }
   },
   "source": [
    "### - Short closing periods (i.e. weekend) are visible on the day of week plot"
   ]
  },
  {
   "cell_type": "markdown",
   "metadata": {
    "slideshow": {
     "slide_type": "fragment"
    }
   },
   "source": [
    "### - But what about longer periods? (renovation, etc.)"
   ]
  },
  {
   "cell_type": "code",
   "execution_count": 8,
   "metadata": {
    "collapsed": false,
    "slideshow": {
     "slide_type": "fragment"
    }
   },
   "outputs": [
    {
     "name": "stdout",
     "output_type": "stream",
     "text": [
      "Max. consecutive day(s) for holiday type \"a\" is 1\n",
      "Max. consecutive day(s) for holiday type \"b\" is 1\n",
      "Max. consecutive day(s) for holiday type \"c\" is 2\n"
     ]
    }
   ],
   "source": [
    "for fest in ['a','b','c']:\n",
    "    print('Max. consecutive day(s) for holiday type \"%s\" is %i' \n",
    "          % (fest, rosshellfun.longest_streak(train['StateHoliday'].values, fest)))"
   ]
  },
  {
   "cell_type": "code",
   "execution_count": 9,
   "metadata": {
    "collapsed": false,
    "slideshow": {
     "slide_type": "fragment"
    }
   },
   "outputs": [
    {
     "name": "stdout",
     "output_type": "stream",
     "text": [
      "Max. consecutive day(s) where a store was marked as closed is 185!\n",
      "Max. consecutive day(s) where a store was marked with zero sales is 185!\n"
     ]
    }
   ],
   "source": [
    "print('Max. consecutive day(s) where a store was marked as closed is %i!' \n",
    "      % rosshellfun.longest_streak(train['Open'].values, 0))\n",
    "print('Max. consecutive day(s) where a store was marked with zero sales is %i!' \n",
    "      % rosshellfun.longest_streak(train['Sales'].values, 0))"
   ]
  },
  {
   "cell_type": "markdown",
   "metadata": {
    "slideshow": {
     "slide_type": "-"
    }
   },
   "source": [
    "### Example store"
   ]
  },
  {
   "cell_type": "code",
   "execution_count": 10,
   "metadata": {
    "collapsed": false
   },
   "outputs": [
    {
     "data": {
      "text/plain": [
       "(200, 20000)"
      ]
     },
     "execution_count": 10,
     "metadata": {},
     "output_type": "execute_result"
    },
    {
     "data": {
      "image/png": "[encoded data removed]",
      "text/plain": [
       "<matplotlib.figure.Figure at 0x8aa4828>"
      ]
     },
     "metadata": {},
     "output_type": "display_data"
    }
   ],
   "source": [
    "plt.plot(train.loc[train['Store'] == 708, 'Sales'], 'b.')\n",
    "plt.ylim(ymax=20000, ymin=200)"
   ]
  },
  {
   "cell_type": "markdown",
   "metadata": {
    "slideshow": {
     "slide_type": "slide"
    }
   },
   "source": [
    "## Add 'DaysLeft' and 'DaysAfter' columns"
   ]
  },
  {
   "cell_type": "markdown",
   "metadata": {
    "slideshow": {
     "slide_type": "fragment"
    }
   },
   "source": [
    "<h3>Sales in no. of days <span style=\"color: #0000AA\">after opening</span> and <span style=\"color: #008800\">before closing</span></h3>"
   ]
  },
  {
   "cell_type": "code",
   "execution_count": 11,
   "metadata": {
    "collapsed": false,
    "slideshow": {
     "slide_type": "-"
    }
   },
   "outputs": [
    {
     "data": {
      "text/plain": [
       "<matplotlib.text.Text at 0x14621b70>"
      ]
     },
     "execution_count": 11,
     "metadata": {},
     "output_type": "execute_result"
    },
    {
     "data": {
      "image/png": "[encoded data removed]",
      "text/plain": [
       "<matplotlib.figure.Figure at 0x83549b0>"
      ]
     },
     "metadata": {},
     "output_type": "display_data"
    }
   ],
   "source": [
    "rosshellfun.addTimeToClose(train)\n",
    "rosshellfun.addTimeToClose(test)\n",
    "plt.xlabel('Days after/before longer closed period')"
   ]
  },
  {
   "cell_type": "markdown",
   "metadata": {
    "slideshow": {
     "slide_type": "slide"
    }
   },
   "source": [
    "# Impute data & drop bad data"
   ]
  },
  {
   "cell_type": "markdown",
   "metadata": {
    "slideshow": {
     "slide_type": "fragment"
    }
   },
   "source": [
    "### - Check for missing values\n"
   ]
  },
  {
   "cell_type": "markdown",
   "metadata": {
    "slideshow": {
     "slide_type": "fragment"
    }
   },
   "source": [
    "### - Omit closed and zero-sales stores from the training (trivial prediction)"
   ]
  },
  {
   "cell_type": "markdown",
   "metadata": {
    "slideshow": {
     "slide_type": "fragment"
    }
   },
   "source": [
    "### - Impute missing values"
   ]
  },
  {
   "cell_type": "code",
   "execution_count": 12,
   "metadata": {
    "collapsed": false,
    "slideshow": {
     "slide_type": "fragment"
    }
   },
   "outputs": [
    {
     "name": "stdout",
     "output_type": "stream",
     "text": [
      "There are 0 missing Open/Close values in the TRAINING set.\n",
      "There are 11 missing Open/Close values in the TEST set.\n"
     ]
    }
   ],
   "source": [
    "print(\"There are %i missing Open/Close values in the TRAINING set.\" \n",
    "      % sum(np.isnan(train.loc[:,'Open'])))\n",
    "print(\"There are %i missing Open/Close values in the TEST set.\"\n",
    "      % sum(np.isnan(test.loc[:,'Open'])))\n",
    "\n",
    "train = train[train[\"Open\"] != 0]  \n",
    "train = train[train[\"Sales\"] > 0]\n",
    "\n",
    "test.fillna(1, inplace=True)"
   ]
  },
  {
   "cell_type": "markdown",
   "metadata": {
    "slideshow": {
     "slide_type": "slide"
    }
   },
   "source": [
    "# External data and feature widening"
   ]
  },
  {
   "cell_type": "markdown",
   "metadata": {
    "slideshow": {
     "slide_type": "fragment"
    }
   },
   "source": [
    "### Trivial join with store information"
   ]
  },
  {
   "cell_type": "code",
   "execution_count": 13,
   "metadata": {
    "collapsed": false
   },
   "outputs": [],
   "source": [
    "train = pd.merge(train, store, on='Store')\n",
    "test = pd.merge(test, store, on='Store')"
   ]
  },
  {
   "cell_type": "markdown",
   "metadata": {
    "slideshow": {
     "slide_type": "slide"
    }
   },
   "source": [
    "<h1>External sources</h1>\n",
    "<br>\n",
    "<table style=\"border:0\" width=\"100%\">\n",
    "    <tr style=\"border:0\">\n",
    "        <td style=\"font-size: 22px; line-height: 1.5; border: 0; vertical-align: top;\">\n",
    "            <img src=\"weather200.png\">\n",
    "            <br><center>Weather</center>\n",
    "        </td>\n",
    "        <td style=\"font-size: 22px; line-height: 1.5; border: 0; vertical-align: top;\">\n",
    "            <img src=\"currency200.png\">\n",
    "            <br><center>Currency (EUR/USD)</center>\n",
    "        </td>\n",
    "        <td style=\"font-size: 22px; line-height: 1.5; border: 0; vertical-align: top;\">\n",
    "            <img src=\"search200.png\">\n",
    "            <br><center>Search popularity</center>\n",
    "        </td>\n",
    "    </tr>\n",
    "</table>"
   ]
  },
  {
   "cell_type": "markdown",
   "metadata": {
    "collapsed": true,
    "slideshow": {
     "slide_type": "subslide"
    }
   },
   "source": [
    "## Weather\n",
    "* WunderGround has an easy-to parse [REST interface](http://www.wunderground.com/history/airport/ETOU/2013/1/1/CustomHistory.html?dayend=31&monthend=12&yearend=2013&req_city=&req_state=&req_statename=&reqdb.zip=&reqdb.magic=&reqdb.wmo=&format=1) and data for [many cities](http://www.wunderground.com/history/index.html?error=AMBIGUOUS&query=germany&day=15&month=11&year=2015&finalday=) in Germany\n",
    "* Ratio threshold to determine overall likelihood of bad weather\n",
    "\n",
    "## EUR-USD currency\n",
    "* Quandl.com was also [kind to us](https://www.quandl.com/data/CURRFX/EURUSD-Currency-Exchange-Rates-EUR-vs-USD)\n",
    "\n",
    "## Google search for „Rossmann”\n",
    "* Google Trends was „[kind enough](https://www.google.com/trends/explore#q=Rossmann&geo=DE&date=1%2F2013%2036m&cmpt=q&tz=Etc%2FGMT-1)”\n",
    "* Weekly precision\n",
    "\n",
    "## Other ideas\n",
    "* Population density (store location backtracking was not possible)\n",
    "* Child births == diaper++ (we found no sufficient data sources)\n"
   ]
  },
  {
   "cell_type": "code",
   "execution_count": 14,
   "metadata": {
    "collapsed": false,
    "scrolled": true,
    "slideshow": {
     "slide_type": "fragment"
    }
   },
   "outputs": [
    {
     "name": "stdout",
     "output_type": "stream",
     "text": [
      "Shape of vectors before/after joined external data:\n",
      "Train (844338, 23) = (844338, 27) \n",
      "Test (41088, 19) = (41088, 23)\n"
     ]
    }
   ],
   "source": [
    "# Load external data\n",
    "ext_curr = rosshellfun.ext_load_currency_data(\n",
    "    \"../ExternalData/ext-currfx-eur-usd.csv\") # EurUsdRate\n",
    "ext_search = rosshellfun.ext_load_search_data(\n",
    "    \"../ExternalData/ext-rossmann-google-search-intensities-2013-2015.csv\") # SearchRossmanGermany, SearchRossmanWorld\n",
    "ext_weather = rosshellfun.ext_load_weather_data(\n",
    "    \"../ExternalData/ext-weather-events-germany.csv\") # WeatherBad\n",
    "\n",
    "# Join the existing data sets with the external data\n",
    "train2 = train \\\n",
    "    .merge(ext_weather, on=\"Date\") \\\n",
    "    .merge(ext_search, on=\"Date\") \\\n",
    "    .merge(ext_curr, on=\"Date\")\n",
    "test2 = test \\\n",
    "    .merge(ext_weather, on=\"Date\") \\\n",
    "    .merge(ext_search, on=\"Date\") \\\n",
    "    .merge(ext_curr, on=\"Date\")\n",
    "\n",
    "print(\"Shape of vectors before/after joined external data:\\nTrain\", \n",
    "      train.shape, \"=\", train2.shape, \"\\nTest\", test.shape, \"=\", test2.shape)\n",
    "\n",
    "train = train2\n",
    "test = test2"
   ]
  },
  {
   "cell_type": "markdown",
   "metadata": {
    "slideshow": {
     "slide_type": "slide"
    }
   },
   "source": [
    "## Feature widening - few more ideas"
   ]
  },
  {
   "cell_type": "markdown",
   "metadata": {},
   "source": [
    " - Map letters types to integer (a,b,c,... -> 1,2,3,...)\n",
    " - Add 'WeekOfYear'\n",
    " - Add 'CompetitionOpen' (nearest in months)\n",
    " - Add 'IsPromoMonth'"
   ]
  },
  {
   "cell_type": "code",
   "execution_count": 15,
   "metadata": {
    "collapsed": false,
    "slideshow": {
     "slide_type": "-"
    }
   },
   "outputs": [],
   "source": [
    "train = rosshellfun.build_features(train)\n",
    "test = rosshellfun.build_features(test)"
   ]
  },
  {
   "cell_type": "markdown",
   "metadata": {
    "slideshow": {
     "slide_type": "slide"
    }
   },
   "source": [
    "# Where are we now"
   ]
  },
  {
   "cell_type": "code",
   "execution_count": 16,
   "metadata": {
    "collapsed": false,
    "scrolled": true,
    "slideshow": {
     "slide_type": "fragment"
    }
   },
   "outputs": [
    {
     "data": {
      "text/html": [
       "<div>\n",
       "<table border=\"1\" class=\"dataframe\">\n",
       "  <thead>\n",
       "    <tr style=\"text-align: right;\">\n",
       "      <th></th>\n",
       "      <th>Store</th>\n",
       "      <th>DayOfWeek</th>\n",
       "      <th>Date</th>\n",
       "      <th>Sales</th>\n",
       "      <th>Customers</th>\n",
       "      <th>Open</th>\n",
       "      <th>Promo</th>\n",
       "      <th>StateHoliday</th>\n",
       "      <th>SchoolHoliday</th>\n",
       "      <th>Day</th>\n",
       "      <th>Month</th>\n",
       "      <th>Year</th>\n",
       "      <th>DaysLeft</th>\n",
       "      <th>DaysAfter</th>\n",
       "      <th>StoreType</th>\n",
       "      <th>Assortment</th>\n",
       "      <th>CompetitionDistance</th>\n",
       "      <th>CompetitionOpenSinceMonth</th>\n",
       "      <th>CompetitionOpenSinceYear</th>\n",
       "      <th>Promo2</th>\n",
       "      <th>Promo2SinceWeek</th>\n",
       "      <th>Promo2SinceYear</th>\n",
       "      <th>PromoInterval</th>\n",
       "      <th>WeatherBad</th>\n",
       "      <th>SearchRossmanGermany</th>\n",
       "      <th>SearchRossmanWorld</th>\n",
       "      <th>EurUsdRate</th>\n",
       "      <th>WeekOfYear</th>\n",
       "      <th>CompetitionOpen</th>\n",
       "      <th>PromoOpen</th>\n",
       "      <th>IsPromoMonth</th>\n",
       "    </tr>\n",
       "  </thead>\n",
       "  <tbody>\n",
       "    <tr>\n",
       "      <th>0</th>\n",
       "      <td>1</td>\n",
       "      <td>2</td>\n",
       "      <td>2013-01-02</td>\n",
       "      <td>5530</td>\n",
       "      <td>668</td>\n",
       "      <td>1</td>\n",
       "      <td>0</td>\n",
       "      <td>0</td>\n",
       "      <td>1</td>\n",
       "      <td>2</td>\n",
       "      <td>1</td>\n",
       "      <td>2013</td>\n",
       "      <td>0</td>\n",
       "      <td>0</td>\n",
       "      <td>3</td>\n",
       "      <td>1</td>\n",
       "      <td>1270</td>\n",
       "      <td>9</td>\n",
       "      <td>2008</td>\n",
       "      <td>0</td>\n",
       "      <td>0</td>\n",
       "      <td>0</td>\n",
       "      <td></td>\n",
       "      <td>0.746032</td>\n",
       "      <td>69</td>\n",
       "      <td>74</td>\n",
       "      <td>1.32214</td>\n",
       "      <td>1</td>\n",
       "      <td>52</td>\n",
       "      <td>0.00</td>\n",
       "      <td>0</td>\n",
       "    </tr>\n",
       "    <tr>\n",
       "      <th>1</th>\n",
       "      <td>2</td>\n",
       "      <td>2</td>\n",
       "      <td>2013-01-02</td>\n",
       "      <td>4422</td>\n",
       "      <td>650</td>\n",
       "      <td>1</td>\n",
       "      <td>0</td>\n",
       "      <td>0</td>\n",
       "      <td>1</td>\n",
       "      <td>2</td>\n",
       "      <td>1</td>\n",
       "      <td>2013</td>\n",
       "      <td>0</td>\n",
       "      <td>0</td>\n",
       "      <td>1</td>\n",
       "      <td>1</td>\n",
       "      <td>570</td>\n",
       "      <td>11</td>\n",
       "      <td>2007</td>\n",
       "      <td>1</td>\n",
       "      <td>13</td>\n",
       "      <td>2010</td>\n",
       "      <td>Jan,Apr,Jul,Oct</td>\n",
       "      <td>0.746032</td>\n",
       "      <td>69</td>\n",
       "      <td>74</td>\n",
       "      <td>1.32214</td>\n",
       "      <td>1</td>\n",
       "      <td>62</td>\n",
       "      <td>33.00</td>\n",
       "      <td>1</td>\n",
       "    </tr>\n",
       "    <tr>\n",
       "      <th>2</th>\n",
       "      <td>3</td>\n",
       "      <td>2</td>\n",
       "      <td>2013-01-02</td>\n",
       "      <td>6823</td>\n",
       "      <td>805</td>\n",
       "      <td>1</td>\n",
       "      <td>0</td>\n",
       "      <td>0</td>\n",
       "      <td>1</td>\n",
       "      <td>2</td>\n",
       "      <td>1</td>\n",
       "      <td>2013</td>\n",
       "      <td>0</td>\n",
       "      <td>0</td>\n",
       "      <td>1</td>\n",
       "      <td>1</td>\n",
       "      <td>14130</td>\n",
       "      <td>12</td>\n",
       "      <td>2006</td>\n",
       "      <td>1</td>\n",
       "      <td>14</td>\n",
       "      <td>2011</td>\n",
       "      <td>Jan,Apr,Jul,Oct</td>\n",
       "      <td>0.746032</td>\n",
       "      <td>69</td>\n",
       "      <td>74</td>\n",
       "      <td>1.32214</td>\n",
       "      <td>1</td>\n",
       "      <td>73</td>\n",
       "      <td>20.75</td>\n",
       "      <td>1</td>\n",
       "    </tr>\n",
       "    <tr>\n",
       "      <th>3</th>\n",
       "      <td>4</td>\n",
       "      <td>2</td>\n",
       "      <td>2013-01-02</td>\n",
       "      <td>9941</td>\n",
       "      <td>1429</td>\n",
       "      <td>1</td>\n",
       "      <td>0</td>\n",
       "      <td>0</td>\n",
       "      <td>1</td>\n",
       "      <td>2</td>\n",
       "      <td>1</td>\n",
       "      <td>2013</td>\n",
       "      <td>0</td>\n",
       "      <td>0</td>\n",
       "      <td>3</td>\n",
       "      <td>3</td>\n",
       "      <td>620</td>\n",
       "      <td>9</td>\n",
       "      <td>2009</td>\n",
       "      <td>0</td>\n",
       "      <td>0</td>\n",
       "      <td>0</td>\n",
       "      <td></td>\n",
       "      <td>0.746032</td>\n",
       "      <td>69</td>\n",
       "      <td>74</td>\n",
       "      <td>1.32214</td>\n",
       "      <td>1</td>\n",
       "      <td>40</td>\n",
       "      <td>0.00</td>\n",
       "      <td>0</td>\n",
       "    </tr>\n",
       "    <tr>\n",
       "      <th>4</th>\n",
       "      <td>5</td>\n",
       "      <td>2</td>\n",
       "      <td>2013-01-02</td>\n",
       "      <td>4253</td>\n",
       "      <td>577</td>\n",
       "      <td>1</td>\n",
       "      <td>0</td>\n",
       "      <td>0</td>\n",
       "      <td>1</td>\n",
       "      <td>2</td>\n",
       "      <td>1</td>\n",
       "      <td>2013</td>\n",
       "      <td>0</td>\n",
       "      <td>0</td>\n",
       "      <td>1</td>\n",
       "      <td>1</td>\n",
       "      <td>29910</td>\n",
       "      <td>4</td>\n",
       "      <td>2015</td>\n",
       "      <td>0</td>\n",
       "      <td>0</td>\n",
       "      <td>0</td>\n",
       "      <td></td>\n",
       "      <td>0.746032</td>\n",
       "      <td>69</td>\n",
       "      <td>74</td>\n",
       "      <td>1.32214</td>\n",
       "      <td>1</td>\n",
       "      <td>-27</td>\n",
       "      <td>0.00</td>\n",
       "      <td>0</td>\n",
       "    </tr>\n",
       "  </tbody>\n",
       "</table>\n",
       "</div>"
      ],
      "text/plain": [
       "   Store  DayOfWeek       Date  Sales  Customers  Open  Promo  StateHoliday  \\\n",
       "0      1          2 2013-01-02   5530        668     1      0             0   \n",
       "1      2          2 2013-01-02   4422        650     1      0             0   \n",
       "2      3          2 2013-01-02   6823        805     1      0             0   \n",
       "3      4          2 2013-01-02   9941       1429     1      0             0   \n",
       "4      5          2 2013-01-02   4253        577     1      0             0   \n",
       "\n",
       "   SchoolHoliday  Day  Month  Year  DaysLeft  DaysAfter  StoreType  \\\n",
       "0              1    2      1  2013         0          0          3   \n",
       "1              1    2      1  2013         0          0          1   \n",
       "2              1    2      1  2013         0          0          1   \n",
       "3              1    2      1  2013         0          0          3   \n",
       "4              1    2      1  2013         0          0          1   \n",
       "\n",
       "   Assortment  CompetitionDistance  CompetitionOpenSinceMonth  \\\n",
       "0           1                 1270                          9   \n",
       "1           1                  570                         11   \n",
       "2           1                14130                         12   \n",
       "3           3                  620                          9   \n",
       "4           1                29910                          4   \n",
       "\n",
       "   CompetitionOpenSinceYear  Promo2  Promo2SinceWeek  Promo2SinceYear  \\\n",
       "0                      2008       0                0                0   \n",
       "1                      2007       1               13             2010   \n",
       "2                      2006       1               14             2011   \n",
       "3                      2009       0                0                0   \n",
       "4                      2015       0                0                0   \n",
       "\n",
       "     PromoInterval  WeatherBad  SearchRossmanGermany  SearchRossmanWorld  \\\n",
       "0                     0.746032                    69                  74   \n",
       "1  Jan,Apr,Jul,Oct    0.746032                    69                  74   \n",
       "2  Jan,Apr,Jul,Oct    0.746032                    69                  74   \n",
       "3                     0.746032                    69                  74   \n",
       "4                     0.746032                    69                  74   \n",
       "\n",
       "   EurUsdRate  WeekOfYear  CompetitionOpen  PromoOpen  IsPromoMonth  \n",
       "0     1.32214           1               52       0.00             0  \n",
       "1     1.32214           1               62      33.00             1  \n",
       "2     1.32214           1               73      20.75             1  \n",
       "3     1.32214           1               40       0.00             0  \n",
       "4     1.32214           1              -27       0.00             0  "
      ]
     },
     "execution_count": 16,
     "metadata": {},
     "output_type": "execute_result"
    }
   ],
   "source": [
    "train.head(5)"
   ]
  },
  {
   "cell_type": "code",
   "execution_count": 17,
   "metadata": {
    "collapsed": false
   },
   "outputs": [
    {
     "data": {
      "text/html": [
       "<div>\n",
       "<table border=\"1\" class=\"dataframe\">\n",
       "  <thead>\n",
       "    <tr style=\"text-align: right;\">\n",
       "      <th></th>\n",
       "      <th>Id</th>\n",
       "      <th>Store</th>\n",
       "      <th>DayOfWeek</th>\n",
       "      <th>Date</th>\n",
       "      <th>Open</th>\n",
       "      <th>Promo</th>\n",
       "      <th>StateHoliday</th>\n",
       "      <th>SchoolHoliday</th>\n",
       "      <th>DaysLeft</th>\n",
       "      <th>DaysAfter</th>\n",
       "      <th>StoreType</th>\n",
       "      <th>Assortment</th>\n",
       "      <th>CompetitionDistance</th>\n",
       "      <th>CompetitionOpenSinceMonth</th>\n",
       "      <th>CompetitionOpenSinceYear</th>\n",
       "      <th>Promo2</th>\n",
       "      <th>Promo2SinceWeek</th>\n",
       "      <th>Promo2SinceYear</th>\n",
       "      <th>PromoInterval</th>\n",
       "      <th>WeatherBad</th>\n",
       "      <th>SearchRossmanGermany</th>\n",
       "      <th>SearchRossmanWorld</th>\n",
       "      <th>EurUsdRate</th>\n",
       "      <th>Year</th>\n",
       "      <th>Month</th>\n",
       "      <th>Day</th>\n",
       "      <th>WeekOfYear</th>\n",
       "      <th>CompetitionOpen</th>\n",
       "      <th>PromoOpen</th>\n",
       "      <th>IsPromoMonth</th>\n",
       "    </tr>\n",
       "  </thead>\n",
       "  <tbody>\n",
       "    <tr>\n",
       "      <th>0</th>\n",
       "      <td>1</td>\n",
       "      <td>1</td>\n",
       "      <td>3</td>\n",
       "      <td>2015-09-17</td>\n",
       "      <td>1</td>\n",
       "      <td>1</td>\n",
       "      <td>0</td>\n",
       "      <td>0</td>\n",
       "      <td>0</td>\n",
       "      <td>0</td>\n",
       "      <td>3</td>\n",
       "      <td>1</td>\n",
       "      <td>1270</td>\n",
       "      <td>9</td>\n",
       "      <td>2008</td>\n",
       "      <td>0</td>\n",
       "      <td>0</td>\n",
       "      <td>0</td>\n",
       "      <td></td>\n",
       "      <td>0.945763</td>\n",
       "      <td>75</td>\n",
       "      <td>66</td>\n",
       "      <td>1.13029</td>\n",
       "      <td>2015</td>\n",
       "      <td>9</td>\n",
       "      <td>17</td>\n",
       "      <td>38</td>\n",
       "      <td>84</td>\n",
       "      <td>0</td>\n",
       "      <td>0</td>\n",
       "    </tr>\n",
       "    <tr>\n",
       "      <th>1</th>\n",
       "      <td>2</td>\n",
       "      <td>3</td>\n",
       "      <td>3</td>\n",
       "      <td>2015-09-17</td>\n",
       "      <td>1</td>\n",
       "      <td>1</td>\n",
       "      <td>0</td>\n",
       "      <td>0</td>\n",
       "      <td>0</td>\n",
       "      <td>0</td>\n",
       "      <td>1</td>\n",
       "      <td>1</td>\n",
       "      <td>14130</td>\n",
       "      <td>12</td>\n",
       "      <td>2006</td>\n",
       "      <td>1</td>\n",
       "      <td>14</td>\n",
       "      <td>2011</td>\n",
       "      <td>Jan,Apr,Jul,Oct</td>\n",
       "      <td>0.945763</td>\n",
       "      <td>75</td>\n",
       "      <td>66</td>\n",
       "      <td>1.13029</td>\n",
       "      <td>2015</td>\n",
       "      <td>9</td>\n",
       "      <td>17</td>\n",
       "      <td>38</td>\n",
       "      <td>105</td>\n",
       "      <td>54</td>\n",
       "      <td>0</td>\n",
       "    </tr>\n",
       "    <tr>\n",
       "      <th>2</th>\n",
       "      <td>3</td>\n",
       "      <td>7</td>\n",
       "      <td>3</td>\n",
       "      <td>2015-09-17</td>\n",
       "      <td>1</td>\n",
       "      <td>1</td>\n",
       "      <td>0</td>\n",
       "      <td>0</td>\n",
       "      <td>0</td>\n",
       "      <td>0</td>\n",
       "      <td>1</td>\n",
       "      <td>3</td>\n",
       "      <td>24000</td>\n",
       "      <td>4</td>\n",
       "      <td>2013</td>\n",
       "      <td>0</td>\n",
       "      <td>0</td>\n",
       "      <td>0</td>\n",
       "      <td></td>\n",
       "      <td>0.945763</td>\n",
       "      <td>75</td>\n",
       "      <td>66</td>\n",
       "      <td>1.13029</td>\n",
       "      <td>2015</td>\n",
       "      <td>9</td>\n",
       "      <td>17</td>\n",
       "      <td>38</td>\n",
       "      <td>29</td>\n",
       "      <td>0</td>\n",
       "      <td>0</td>\n",
       "    </tr>\n",
       "    <tr>\n",
       "      <th>3</th>\n",
       "      <td>4</td>\n",
       "      <td>8</td>\n",
       "      <td>3</td>\n",
       "      <td>2015-09-17</td>\n",
       "      <td>1</td>\n",
       "      <td>1</td>\n",
       "      <td>0</td>\n",
       "      <td>0</td>\n",
       "      <td>0</td>\n",
       "      <td>0</td>\n",
       "      <td>1</td>\n",
       "      <td>1</td>\n",
       "      <td>7520</td>\n",
       "      <td>10</td>\n",
       "      <td>2014</td>\n",
       "      <td>0</td>\n",
       "      <td>0</td>\n",
       "      <td>0</td>\n",
       "      <td></td>\n",
       "      <td>0.945763</td>\n",
       "      <td>75</td>\n",
       "      <td>66</td>\n",
       "      <td>1.13029</td>\n",
       "      <td>2015</td>\n",
       "      <td>9</td>\n",
       "      <td>17</td>\n",
       "      <td>38</td>\n",
       "      <td>11</td>\n",
       "      <td>0</td>\n",
       "      <td>0</td>\n",
       "    </tr>\n",
       "    <tr>\n",
       "      <th>4</th>\n",
       "      <td>5</td>\n",
       "      <td>9</td>\n",
       "      <td>3</td>\n",
       "      <td>2015-09-17</td>\n",
       "      <td>1</td>\n",
       "      <td>1</td>\n",
       "      <td>0</td>\n",
       "      <td>0</td>\n",
       "      <td>0</td>\n",
       "      <td>0</td>\n",
       "      <td>1</td>\n",
       "      <td>3</td>\n",
       "      <td>2030</td>\n",
       "      <td>8</td>\n",
       "      <td>2000</td>\n",
       "      <td>0</td>\n",
       "      <td>0</td>\n",
       "      <td>0</td>\n",
       "      <td></td>\n",
       "      <td>0.945763</td>\n",
       "      <td>75</td>\n",
       "      <td>66</td>\n",
       "      <td>1.13029</td>\n",
       "      <td>2015</td>\n",
       "      <td>9</td>\n",
       "      <td>17</td>\n",
       "      <td>38</td>\n",
       "      <td>181</td>\n",
       "      <td>0</td>\n",
       "      <td>0</td>\n",
       "    </tr>\n",
       "  </tbody>\n",
       "</table>\n",
       "</div>"
      ],
      "text/plain": [
       "   Id  Store  DayOfWeek       Date  Open  Promo  StateHoliday  SchoolHoliday  \\\n",
       "0   1      1          3 2015-09-17     1      1             0              0   \n",
       "1   2      3          3 2015-09-17     1      1             0              0   \n",
       "2   3      7          3 2015-09-17     1      1             0              0   \n",
       "3   4      8          3 2015-09-17     1      1             0              0   \n",
       "4   5      9          3 2015-09-17     1      1             0              0   \n",
       "\n",
       "   DaysLeft  DaysAfter  StoreType  Assortment  CompetitionDistance  \\\n",
       "0         0          0          3           1                 1270   \n",
       "1         0          0          1           1                14130   \n",
       "2         0          0          1           3                24000   \n",
       "3         0          0          1           1                 7520   \n",
       "4         0          0          1           3                 2030   \n",
       "\n",
       "   CompetitionOpenSinceMonth  CompetitionOpenSinceYear  Promo2  \\\n",
       "0                          9                      2008       0   \n",
       "1                         12                      2006       1   \n",
       "2                          4                      2013       0   \n",
       "3                         10                      2014       0   \n",
       "4                          8                      2000       0   \n",
       "\n",
       "   Promo2SinceWeek  Promo2SinceYear    PromoInterval  WeatherBad  \\\n",
       "0                0                0                     0.945763   \n",
       "1               14             2011  Jan,Apr,Jul,Oct    0.945763   \n",
       "2                0                0                     0.945763   \n",
       "3                0                0                     0.945763   \n",
       "4                0                0                     0.945763   \n",
       "\n",
       "   SearchRossmanGermany  SearchRossmanWorld  EurUsdRate  Year  Month  Day  \\\n",
       "0                    75                  66     1.13029  2015      9   17   \n",
       "1                    75                  66     1.13029  2015      9   17   \n",
       "2                    75                  66     1.13029  2015      9   17   \n",
       "3                    75                  66     1.13029  2015      9   17   \n",
       "4                    75                  66     1.13029  2015      9   17   \n",
       "\n",
       "   WeekOfYear  CompetitionOpen  PromoOpen  IsPromoMonth  \n",
       "0          38               84          0             0  \n",
       "1          38              105         54             0  \n",
       "2          38               29          0             0  \n",
       "3          38               11          0             0  \n",
       "4          38              181          0             0  "
      ]
     },
     "execution_count": 17,
     "metadata": {},
     "output_type": "execute_result"
    }
   ],
   "source": [
    "test.head(5)"
   ]
  },
  {
   "cell_type": "markdown",
   "metadata": {
    "slideshow": {
     "slide_type": "slide"
    }
   },
   "source": [
    "# Creating store categories based on sales similarity\n",
    "\n",
    "- We have 1000+ stores\n",
    "- It is reasonable to assume that the covariation is large\n",
    "- It is reasonable to assume that there are similar stores (store type group)\n",
    "- This is a posteriori grouping (We had storetype already in the data)\n",
    "- We used hierarchical clustering"
   ]
  },
  {
   "cell_type": "code",
   "execution_count": 18,
   "metadata": {
    "collapsed": false
   },
   "outputs": [
    {
     "data": {
      "image/png": "[encoded data removed]",
      "text/plain": [
       "<matplotlib.figure.Figure at 0x909bcf8>"
      ]
     },
     "metadata": {},
     "output_type": "display_data"
    }
   ],
   "source": [
    "table = pd.pivot_table(train.loc[:,['Date','Sales','Store']],index = ['Date'], columns = ['Store'], values = ['Sales'] )\n",
    "\n",
    "store_type_labels = rosshellfun.cluster_all_stores(table, cut_thresh = 0.05, method = 'ward')\n",
    "# ward's method focuses on variance and not distance itself"
   ]
  },
  {
   "cell_type": "markdown",
   "metadata": {
    "slideshow": {
     "slide_type": "slide"
    }
   },
   "source": [
    "# Let's check if everything is added correctly\n",
    "\n",
    "- This is again a crucial step\n",
    "- _'Pandas eat only indexes'_\n",
    "\n",
    "![pandas](http://cdn.phys.org/newman/gfx/news/hires/2013/giantpandase.jpg)"
   ]
  },
  {
   "cell_type": "code",
   "execution_count": 19,
   "metadata": {
    "collapsed": false,
    "slideshow": {
     "slide_type": "-"
    }
   },
   "outputs": [],
   "source": [
    "# add store_type_labels to training and test\n",
    "train = pd.merge(train, pd.DataFrame([store_type_labels,table.columns.get_level_values(1)],\n",
    "                             columns = table.columns.get_level_values(1), \n",
    "                             index = ['StoreCluster','Store'] ).T, on='Store')\n",
    "test = pd.merge(test, pd.DataFrame([store_type_labels,table.columns.get_level_values(1)],\n",
    "                             columns = table.columns.get_level_values(1), \n",
    "                             index = ['StoreCluster','Store'] ).T, on='Store')"
   ]
  },
  {
   "cell_type": "code",
   "execution_count": 20,
   "metadata": {
    "collapsed": false
   },
   "outputs": [
    {
     "data": {
      "text/html": [
       "<div>\n",
       "<table border=\"1\" class=\"dataframe\">\n",
       "  <thead>\n",
       "    <tr style=\"text-align: right;\">\n",
       "      <th></th>\n",
       "      <th>Store</th>\n",
       "      <th>StoreCluster</th>\n",
       "    </tr>\n",
       "  </thead>\n",
       "  <tbody>\n",
       "    <tr>\n",
       "      <th>0</th>\n",
       "      <td>1</td>\n",
       "      <td>8</td>\n",
       "    </tr>\n",
       "    <tr>\n",
       "      <th>781</th>\n",
       "      <td>2</td>\n",
       "      <td>8</td>\n",
       "    </tr>\n",
       "    <tr>\n",
       "      <th>1565</th>\n",
       "      <td>3</td>\n",
       "      <td>22</td>\n",
       "    </tr>\n",
       "    <tr>\n",
       "      <th>2344</th>\n",
       "      <td>4</td>\n",
       "      <td>17</td>\n",
       "    </tr>\n",
       "    <tr>\n",
       "      <th>3128</th>\n",
       "      <td>5</td>\n",
       "      <td>8</td>\n",
       "    </tr>\n",
       "    <tr>\n",
       "      <th>3907</th>\n",
       "      <td>6</td>\n",
       "      <td>7</td>\n",
       "    </tr>\n",
       "    <tr>\n",
       "      <th>4687</th>\n",
       "      <td>7</td>\n",
       "      <td>21</td>\n",
       "    </tr>\n",
       "    <tr>\n",
       "      <th>5473</th>\n",
       "      <td>8</td>\n",
       "      <td>7</td>\n",
       "    </tr>\n",
       "    <tr>\n",
       "      <th>6257</th>\n",
       "      <td>9</td>\n",
       "      <td>22</td>\n",
       "    </tr>\n",
       "    <tr>\n",
       "      <th>7036</th>\n",
       "      <td>10</td>\n",
       "      <td>7</td>\n",
       "    </tr>\n",
       "  </tbody>\n",
       "</table>\n",
       "</div>"
      ],
      "text/plain": [
       "      Store  StoreCluster\n",
       "0         1             8\n",
       "781       2             8\n",
       "1565      3            22\n",
       "2344      4            17\n",
       "3128      5             8\n",
       "3907      6             7\n",
       "4687      7            21\n",
       "5473      8             7\n",
       "6257      9            22\n",
       "7036     10             7"
      ]
     },
     "execution_count": 20,
     "metadata": {},
     "output_type": "execute_result"
    }
   ],
   "source": [
    "train.loc[:,['Store','StoreCluster']].drop_duplicates(inplace = False).sort('Store').head(10)"
   ]
  },
  {
   "cell_type": "code",
   "execution_count": 21,
   "metadata": {
    "collapsed": false
   },
   "outputs": [
    {
     "data": {
      "text/html": [
       "<div>\n",
       "<table border=\"1\" class=\"dataframe\">\n",
       "  <thead>\n",
       "    <tr style=\"text-align: right;\">\n",
       "      <th></th>\n",
       "      <th>Store</th>\n",
       "      <th>StoreCluster</th>\n",
       "    </tr>\n",
       "  </thead>\n",
       "  <tbody>\n",
       "    <tr>\n",
       "      <th>0</th>\n",
       "      <td>1</td>\n",
       "      <td>8</td>\n",
       "    </tr>\n",
       "    <tr>\n",
       "      <th>48</th>\n",
       "      <td>3</td>\n",
       "      <td>22</td>\n",
       "    </tr>\n",
       "    <tr>\n",
       "      <th>96</th>\n",
       "      <td>7</td>\n",
       "      <td>21</td>\n",
       "    </tr>\n",
       "    <tr>\n",
       "      <th>144</th>\n",
       "      <td>8</td>\n",
       "      <td>7</td>\n",
       "    </tr>\n",
       "    <tr>\n",
       "      <th>192</th>\n",
       "      <td>9</td>\n",
       "      <td>22</td>\n",
       "    </tr>\n",
       "    <tr>\n",
       "      <th>240</th>\n",
       "      <td>10</td>\n",
       "      <td>7</td>\n",
       "    </tr>\n",
       "    <tr>\n",
       "      <th>288</th>\n",
       "      <td>11</td>\n",
       "      <td>21</td>\n",
       "    </tr>\n",
       "    <tr>\n",
       "      <th>336</th>\n",
       "      <td>12</td>\n",
       "      <td>20</td>\n",
       "    </tr>\n",
       "    <tr>\n",
       "      <th>384</th>\n",
       "      <td>13</td>\n",
       "      <td>13</td>\n",
       "    </tr>\n",
       "    <tr>\n",
       "      <th>432</th>\n",
       "      <td>14</td>\n",
       "      <td>7</td>\n",
       "    </tr>\n",
       "  </tbody>\n",
       "</table>\n",
       "</div>"
      ],
      "text/plain": [
       "     Store  StoreCluster\n",
       "0        1             8\n",
       "48       3            22\n",
       "96       7            21\n",
       "144      8             7\n",
       "192      9            22\n",
       "240     10             7\n",
       "288     11            21\n",
       "336     12            20\n",
       "384     13            13\n",
       "432     14             7"
      ]
     },
     "execution_count": 21,
     "metadata": {},
     "output_type": "execute_result"
    }
   ],
   "source": [
    "test.loc[:,['Store','StoreCluster']].drop_duplicates(inplace = False).sort('Store').head(10)"
   ]
  },
  {
   "cell_type": "markdown",
   "metadata": {
    "slideshow": {
     "slide_type": "slide"
    }
   },
   "source": [
    "# Create dummy columns\n",
    "\n",
    "- Categorical data is handled as dummy columns\n",
    "- At this point we create a validation set "
   ]
  },
  {
   "cell_type": "code",
   "execution_count": 22,
   "metadata": {
    "collapsed": true
   },
   "outputs": [],
   "source": [
    "#create dummy columns function creates dummy columns where values are value+_+columns name\n",
    "train = rosshellfun.create_dummy_columns(train, ['StoreCluster','DayOfWeek','DaysLeft','DaysAfter'])\n",
    "test = rosshellfun.create_dummy_columns(test, ['StoreCluster','DayOfWeek','DaysLeft','DaysAfter'])"
   ]
  },
  {
   "cell_type": "code",
   "execution_count": 23,
   "metadata": {
    "collapsed": false
   },
   "outputs": [
    {
     "data": {
      "text/html": [
       "<div>\n",
       "<table border=\"1\" class=\"dataframe\">\n",
       "  <thead>\n",
       "    <tr style=\"text-align: right;\">\n",
       "      <th></th>\n",
       "      <th>Store</th>\n",
       "      <th>DayOfWeek</th>\n",
       "      <th>Date</th>\n",
       "      <th>Sales</th>\n",
       "      <th>Customers</th>\n",
       "      <th>Open</th>\n",
       "      <th>Promo</th>\n",
       "      <th>StateHoliday</th>\n",
       "      <th>SchoolHoliday</th>\n",
       "      <th>Day</th>\n",
       "      <th>Month</th>\n",
       "      <th>Year</th>\n",
       "      <th>DaysLeft</th>\n",
       "      <th>DaysAfter</th>\n",
       "      <th>StoreType</th>\n",
       "      <th>Assortment</th>\n",
       "      <th>CompetitionDistance</th>\n",
       "      <th>CompetitionOpenSinceMonth</th>\n",
       "      <th>CompetitionOpenSinceYear</th>\n",
       "      <th>Promo2</th>\n",
       "      <th>Promo2SinceWeek</th>\n",
       "      <th>Promo2SinceYear</th>\n",
       "      <th>PromoInterval</th>\n",
       "      <th>WeatherBad</th>\n",
       "      <th>SearchRossmanGermany</th>\n",
       "      <th>SearchRossmanWorld</th>\n",
       "      <th>EurUsdRate</th>\n",
       "      <th>WeekOfYear</th>\n",
       "      <th>CompetitionOpen</th>\n",
       "      <th>PromoOpen</th>\n",
       "      <th>IsPromoMonth</th>\n",
       "      <th>StoreCluster</th>\n",
       "      <th>10_StoreCluster</th>\n",
       "      <th>11_StoreCluster</th>\n",
       "      <th>12_StoreCluster</th>\n",
       "      <th>13_StoreCluster</th>\n",
       "      <th>14_StoreCluster</th>\n",
       "      <th>15_StoreCluster</th>\n",
       "      <th>16_StoreCluster</th>\n",
       "      <th>17_StoreCluster</th>\n",
       "      <th>18_StoreCluster</th>\n",
       "      <th>19_StoreCluster</th>\n",
       "      <th>1_StoreCluster</th>\n",
       "      <th>20_StoreCluster</th>\n",
       "      <th>21_StoreCluster</th>\n",
       "      <th>22_StoreCluster</th>\n",
       "      <th>23_StoreCluster</th>\n",
       "      <th>24_StoreCluster</th>\n",
       "      <th>2_StoreCluster</th>\n",
       "      <th>3_StoreCluster</th>\n",
       "      <th>4_StoreCluster</th>\n",
       "      <th>5_StoreCluster</th>\n",
       "      <th>6_StoreCluster</th>\n",
       "      <th>7_StoreCluster</th>\n",
       "      <th>8_StoreCluster</th>\n",
       "      <th>9_StoreCluster</th>\n",
       "      <th>0_DayOfWeek</th>\n",
       "      <th>1_DayOfWeek</th>\n",
       "      <th>2_DayOfWeek</th>\n",
       "      <th>3_DayOfWeek</th>\n",
       "      <th>4_DayOfWeek</th>\n",
       "      <th>5_DayOfWeek</th>\n",
       "      <th>6_DayOfWeek</th>\n",
       "      <th>0_DaysLeft</th>\n",
       "      <th>1_DaysLeft</th>\n",
       "      <th>2_DaysLeft</th>\n",
       "      <th>3_DaysLeft</th>\n",
       "      <th>4_DaysLeft</th>\n",
       "      <th>5_DaysLeft</th>\n",
       "      <th>6_DaysLeft</th>\n",
       "      <th>0_DaysAfter</th>\n",
       "      <th>1_DaysAfter</th>\n",
       "      <th>2_DaysAfter</th>\n",
       "      <th>3_DaysAfter</th>\n",
       "      <th>4_DaysAfter</th>\n",
       "      <th>5_DaysAfter</th>\n",
       "      <th>6_DaysAfter</th>\n",
       "    </tr>\n",
       "  </thead>\n",
       "  <tbody>\n",
       "    <tr>\n",
       "      <th>0</th>\n",
       "      <td>1</td>\n",
       "      <td>2_DayOfWeek</td>\n",
       "      <td>2013-01-02</td>\n",
       "      <td>5530</td>\n",
       "      <td>668</td>\n",
       "      <td>1</td>\n",
       "      <td>0</td>\n",
       "      <td>0</td>\n",
       "      <td>1</td>\n",
       "      <td>2</td>\n",
       "      <td>1</td>\n",
       "      <td>2013</td>\n",
       "      <td>0_DaysLeft</td>\n",
       "      <td>0_DaysAfter</td>\n",
       "      <td>3</td>\n",
       "      <td>1</td>\n",
       "      <td>1270</td>\n",
       "      <td>9</td>\n",
       "      <td>2008</td>\n",
       "      <td>0</td>\n",
       "      <td>0</td>\n",
       "      <td>0</td>\n",
       "      <td></td>\n",
       "      <td>0.746032</td>\n",
       "      <td>69</td>\n",
       "      <td>74</td>\n",
       "      <td>1.32214</td>\n",
       "      <td>1</td>\n",
       "      <td>52</td>\n",
       "      <td>0</td>\n",
       "      <td>0</td>\n",
       "      <td>8_StoreCluster</td>\n",
       "      <td>0</td>\n",
       "      <td>0</td>\n",
       "      <td>0</td>\n",
       "      <td>0</td>\n",
       "      <td>0</td>\n",
       "      <td>0</td>\n",
       "      <td>0</td>\n",
       "      <td>0</td>\n",
       "      <td>0</td>\n",
       "      <td>0</td>\n",
       "      <td>0</td>\n",
       "      <td>0</td>\n",
       "      <td>0</td>\n",
       "      <td>0</td>\n",
       "      <td>0</td>\n",
       "      <td>0</td>\n",
       "      <td>0</td>\n",
       "      <td>0</td>\n",
       "      <td>0</td>\n",
       "      <td>0</td>\n",
       "      <td>0</td>\n",
       "      <td>0</td>\n",
       "      <td>1</td>\n",
       "      <td>0</td>\n",
       "      <td>0</td>\n",
       "      <td>0</td>\n",
       "      <td>1</td>\n",
       "      <td>0</td>\n",
       "      <td>0</td>\n",
       "      <td>0</td>\n",
       "      <td>0</td>\n",
       "      <td>1</td>\n",
       "      <td>0</td>\n",
       "      <td>0</td>\n",
       "      <td>0</td>\n",
       "      <td>0</td>\n",
       "      <td>0</td>\n",
       "      <td>0</td>\n",
       "      <td>1</td>\n",
       "      <td>0</td>\n",
       "      <td>0</td>\n",
       "      <td>0</td>\n",
       "      <td>0</td>\n",
       "      <td>0</td>\n",
       "      <td>0</td>\n",
       "    </tr>\n",
       "    <tr>\n",
       "      <th>1</th>\n",
       "      <td>1</td>\n",
       "      <td>3_DayOfWeek</td>\n",
       "      <td>2013-01-03</td>\n",
       "      <td>4327</td>\n",
       "      <td>578</td>\n",
       "      <td>1</td>\n",
       "      <td>0</td>\n",
       "      <td>0</td>\n",
       "      <td>1</td>\n",
       "      <td>3</td>\n",
       "      <td>1</td>\n",
       "      <td>2013</td>\n",
       "      <td>0_DaysLeft</td>\n",
       "      <td>0_DaysAfter</td>\n",
       "      <td>3</td>\n",
       "      <td>1</td>\n",
       "      <td>1270</td>\n",
       "      <td>9</td>\n",
       "      <td>2008</td>\n",
       "      <td>0</td>\n",
       "      <td>0</td>\n",
       "      <td>0</td>\n",
       "      <td></td>\n",
       "      <td>0.980159</td>\n",
       "      <td>69</td>\n",
       "      <td>74</td>\n",
       "      <td>1.31698</td>\n",
       "      <td>1</td>\n",
       "      <td>52</td>\n",
       "      <td>0</td>\n",
       "      <td>0</td>\n",
       "      <td>8_StoreCluster</td>\n",
       "      <td>0</td>\n",
       "      <td>0</td>\n",
       "      <td>0</td>\n",
       "      <td>0</td>\n",
       "      <td>0</td>\n",
       "      <td>0</td>\n",
       "      <td>0</td>\n",
       "      <td>0</td>\n",
       "      <td>0</td>\n",
       "      <td>0</td>\n",
       "      <td>0</td>\n",
       "      <td>0</td>\n",
       "      <td>0</td>\n",
       "      <td>0</td>\n",
       "      <td>0</td>\n",
       "      <td>0</td>\n",
       "      <td>0</td>\n",
       "      <td>0</td>\n",
       "      <td>0</td>\n",
       "      <td>0</td>\n",
       "      <td>0</td>\n",
       "      <td>0</td>\n",
       "      <td>1</td>\n",
       "      <td>0</td>\n",
       "      <td>0</td>\n",
       "      <td>0</td>\n",
       "      <td>0</td>\n",
       "      <td>1</td>\n",
       "      <td>0</td>\n",
       "      <td>0</td>\n",
       "      <td>0</td>\n",
       "      <td>1</td>\n",
       "      <td>0</td>\n",
       "      <td>0</td>\n",
       "      <td>0</td>\n",
       "      <td>0</td>\n",
       "      <td>0</td>\n",
       "      <td>0</td>\n",
       "      <td>1</td>\n",
       "      <td>0</td>\n",
       "      <td>0</td>\n",
       "      <td>0</td>\n",
       "      <td>0</td>\n",
       "      <td>0</td>\n",
       "      <td>0</td>\n",
       "    </tr>\n",
       "    <tr>\n",
       "      <th>2</th>\n",
       "      <td>1</td>\n",
       "      <td>4_DayOfWeek</td>\n",
       "      <td>2013-01-04</td>\n",
       "      <td>4486</td>\n",
       "      <td>619</td>\n",
       "      <td>1</td>\n",
       "      <td>0</td>\n",
       "      <td>0</td>\n",
       "      <td>1</td>\n",
       "      <td>4</td>\n",
       "      <td>1</td>\n",
       "      <td>2013</td>\n",
       "      <td>0_DaysLeft</td>\n",
       "      <td>0_DaysAfter</td>\n",
       "      <td>3</td>\n",
       "      <td>1</td>\n",
       "      <td>1270</td>\n",
       "      <td>9</td>\n",
       "      <td>2008</td>\n",
       "      <td>0</td>\n",
       "      <td>0</td>\n",
       "      <td>0</td>\n",
       "      <td></td>\n",
       "      <td>0.835294</td>\n",
       "      <td>69</td>\n",
       "      <td>74</td>\n",
       "      <td>1.30743</td>\n",
       "      <td>1</td>\n",
       "      <td>52</td>\n",
       "      <td>0</td>\n",
       "      <td>0</td>\n",
       "      <td>8_StoreCluster</td>\n",
       "      <td>0</td>\n",
       "      <td>0</td>\n",
       "      <td>0</td>\n",
       "      <td>0</td>\n",
       "      <td>0</td>\n",
       "      <td>0</td>\n",
       "      <td>0</td>\n",
       "      <td>0</td>\n",
       "      <td>0</td>\n",
       "      <td>0</td>\n",
       "      <td>0</td>\n",
       "      <td>0</td>\n",
       "      <td>0</td>\n",
       "      <td>0</td>\n",
       "      <td>0</td>\n",
       "      <td>0</td>\n",
       "      <td>0</td>\n",
       "      <td>0</td>\n",
       "      <td>0</td>\n",
       "      <td>0</td>\n",
       "      <td>0</td>\n",
       "      <td>0</td>\n",
       "      <td>1</td>\n",
       "      <td>0</td>\n",
       "      <td>0</td>\n",
       "      <td>0</td>\n",
       "      <td>0</td>\n",
       "      <td>0</td>\n",
       "      <td>1</td>\n",
       "      <td>0</td>\n",
       "      <td>0</td>\n",
       "      <td>1</td>\n",
       "      <td>0</td>\n",
       "      <td>0</td>\n",
       "      <td>0</td>\n",
       "      <td>0</td>\n",
       "      <td>0</td>\n",
       "      <td>0</td>\n",
       "      <td>1</td>\n",
       "      <td>0</td>\n",
       "      <td>0</td>\n",
       "      <td>0</td>\n",
       "      <td>0</td>\n",
       "      <td>0</td>\n",
       "      <td>0</td>\n",
       "    </tr>\n",
       "    <tr>\n",
       "      <th>3</th>\n",
       "      <td>1</td>\n",
       "      <td>5_DayOfWeek</td>\n",
       "      <td>2013-01-05</td>\n",
       "      <td>4997</td>\n",
       "      <td>635</td>\n",
       "      <td>1</td>\n",
       "      <td>0</td>\n",
       "      <td>0</td>\n",
       "      <td>1</td>\n",
       "      <td>5</td>\n",
       "      <td>1</td>\n",
       "      <td>2013</td>\n",
       "      <td>0_DaysLeft</td>\n",
       "      <td>0_DaysAfter</td>\n",
       "      <td>3</td>\n",
       "      <td>1</td>\n",
       "      <td>1270</td>\n",
       "      <td>9</td>\n",
       "      <td>2008</td>\n",
       "      <td>0</td>\n",
       "      <td>0</td>\n",
       "      <td>0</td>\n",
       "      <td></td>\n",
       "      <td>0.658333</td>\n",
       "      <td>69</td>\n",
       "      <td>74</td>\n",
       "      <td>1.30743</td>\n",
       "      <td>1</td>\n",
       "      <td>52</td>\n",
       "      <td>0</td>\n",
       "      <td>0</td>\n",
       "      <td>8_StoreCluster</td>\n",
       "      <td>0</td>\n",
       "      <td>0</td>\n",
       "      <td>0</td>\n",
       "      <td>0</td>\n",
       "      <td>0</td>\n",
       "      <td>0</td>\n",
       "      <td>0</td>\n",
       "      <td>0</td>\n",
       "      <td>0</td>\n",
       "      <td>0</td>\n",
       "      <td>0</td>\n",
       "      <td>0</td>\n",
       "      <td>0</td>\n",
       "      <td>0</td>\n",
       "      <td>0</td>\n",
       "      <td>0</td>\n",
       "      <td>0</td>\n",
       "      <td>0</td>\n",
       "      <td>0</td>\n",
       "      <td>0</td>\n",
       "      <td>0</td>\n",
       "      <td>0</td>\n",
       "      <td>1</td>\n",
       "      <td>0</td>\n",
       "      <td>0</td>\n",
       "      <td>0</td>\n",
       "      <td>0</td>\n",
       "      <td>0</td>\n",
       "      <td>0</td>\n",
       "      <td>1</td>\n",
       "      <td>0</td>\n",
       "      <td>1</td>\n",
       "      <td>0</td>\n",
       "      <td>0</td>\n",
       "      <td>0</td>\n",
       "      <td>0</td>\n",
       "      <td>0</td>\n",
       "      <td>0</td>\n",
       "      <td>1</td>\n",
       "      <td>0</td>\n",
       "      <td>0</td>\n",
       "      <td>0</td>\n",
       "      <td>0</td>\n",
       "      <td>0</td>\n",
       "      <td>0</td>\n",
       "    </tr>\n",
       "    <tr>\n",
       "      <th>4</th>\n",
       "      <td>1</td>\n",
       "      <td>0_DayOfWeek</td>\n",
       "      <td>2013-01-07</td>\n",
       "      <td>7176</td>\n",
       "      <td>785</td>\n",
       "      <td>1</td>\n",
       "      <td>1</td>\n",
       "      <td>0</td>\n",
       "      <td>1</td>\n",
       "      <td>7</td>\n",
       "      <td>1</td>\n",
       "      <td>2013</td>\n",
       "      <td>0_DaysLeft</td>\n",
       "      <td>0_DaysAfter</td>\n",
       "      <td>3</td>\n",
       "      <td>1</td>\n",
       "      <td>1270</td>\n",
       "      <td>9</td>\n",
       "      <td>2008</td>\n",
       "      <td>0</td>\n",
       "      <td>0</td>\n",
       "      <td>0</td>\n",
       "      <td></td>\n",
       "      <td>0.392996</td>\n",
       "      <td>63</td>\n",
       "      <td>59</td>\n",
       "      <td>1.30526</td>\n",
       "      <td>2</td>\n",
       "      <td>52</td>\n",
       "      <td>0</td>\n",
       "      <td>0</td>\n",
       "      <td>8_StoreCluster</td>\n",
       "      <td>0</td>\n",
       "      <td>0</td>\n",
       "      <td>0</td>\n",
       "      <td>0</td>\n",
       "      <td>0</td>\n",
       "      <td>0</td>\n",
       "      <td>0</td>\n",
       "      <td>0</td>\n",
       "      <td>0</td>\n",
       "      <td>0</td>\n",
       "      <td>0</td>\n",
       "      <td>0</td>\n",
       "      <td>0</td>\n",
       "      <td>0</td>\n",
       "      <td>0</td>\n",
       "      <td>0</td>\n",
       "      <td>0</td>\n",
       "      <td>0</td>\n",
       "      <td>0</td>\n",
       "      <td>0</td>\n",
       "      <td>0</td>\n",
       "      <td>0</td>\n",
       "      <td>1</td>\n",
       "      <td>0</td>\n",
       "      <td>1</td>\n",
       "      <td>0</td>\n",
       "      <td>0</td>\n",
       "      <td>0</td>\n",
       "      <td>0</td>\n",
       "      <td>0</td>\n",
       "      <td>0</td>\n",
       "      <td>1</td>\n",
       "      <td>0</td>\n",
       "      <td>0</td>\n",
       "      <td>0</td>\n",
       "      <td>0</td>\n",
       "      <td>0</td>\n",
       "      <td>0</td>\n",
       "      <td>1</td>\n",
       "      <td>0</td>\n",
       "      <td>0</td>\n",
       "      <td>0</td>\n",
       "      <td>0</td>\n",
       "      <td>0</td>\n",
       "      <td>0</td>\n",
       "    </tr>\n",
       "  </tbody>\n",
       "</table>\n",
       "</div>"
      ],
      "text/plain": [
       "   Store    DayOfWeek       Date  Sales  Customers  Open  Promo  StateHoliday  \\\n",
       "0      1  2_DayOfWeek 2013-01-02   5530        668     1      0             0   \n",
       "1      1  3_DayOfWeek 2013-01-03   4327        578     1      0             0   \n",
       "2      1  4_DayOfWeek 2013-01-04   4486        619     1      0             0   \n",
       "3      1  5_DayOfWeek 2013-01-05   4997        635     1      0             0   \n",
       "4      1  0_DayOfWeek 2013-01-07   7176        785     1      1             0   \n",
       "\n",
       "   SchoolHoliday  Day  Month  Year    DaysLeft    DaysAfter  StoreType  \\\n",
       "0              1    2      1  2013  0_DaysLeft  0_DaysAfter          3   \n",
       "1              1    3      1  2013  0_DaysLeft  0_DaysAfter          3   \n",
       "2              1    4      1  2013  0_DaysLeft  0_DaysAfter          3   \n",
       "3              1    5      1  2013  0_DaysLeft  0_DaysAfter          3   \n",
       "4              1    7      1  2013  0_DaysLeft  0_DaysAfter          3   \n",
       "\n",
       "   Assortment  CompetitionDistance  CompetitionOpenSinceMonth  \\\n",
       "0           1                 1270                          9   \n",
       "1           1                 1270                          9   \n",
       "2           1                 1270                          9   \n",
       "3           1                 1270                          9   \n",
       "4           1                 1270                          9   \n",
       "\n",
       "   CompetitionOpenSinceYear  Promo2  Promo2SinceWeek  Promo2SinceYear  \\\n",
       "0                      2008       0                0                0   \n",
       "1                      2008       0                0                0   \n",
       "2                      2008       0                0                0   \n",
       "3                      2008       0                0                0   \n",
       "4                      2008       0                0                0   \n",
       "\n",
       "  PromoInterval  WeatherBad  SearchRossmanGermany  SearchRossmanWorld  \\\n",
       "0                  0.746032                    69                  74   \n",
       "1                  0.980159                    69                  74   \n",
       "2                  0.835294                    69                  74   \n",
       "3                  0.658333                    69                  74   \n",
       "4                  0.392996                    63                  59   \n",
       "\n",
       "   EurUsdRate  WeekOfYear  CompetitionOpen  PromoOpen  IsPromoMonth  \\\n",
       "0     1.32214           1               52          0             0   \n",
       "1     1.31698           1               52          0             0   \n",
       "2     1.30743           1               52          0             0   \n",
       "3     1.30743           1               52          0             0   \n",
       "4     1.30526           2               52          0             0   \n",
       "\n",
       "     StoreCluster  10_StoreCluster  11_StoreCluster  12_StoreCluster  \\\n",
       "0  8_StoreCluster                0                0                0   \n",
       "1  8_StoreCluster                0                0                0   \n",
       "2  8_StoreCluster                0                0                0   \n",
       "3  8_StoreCluster                0                0                0   \n",
       "4  8_StoreCluster                0                0                0   \n",
       "\n",
       "   13_StoreCluster  14_StoreCluster  15_StoreCluster  16_StoreCluster  \\\n",
       "0                0                0                0                0   \n",
       "1                0                0                0                0   \n",
       "2                0                0                0                0   \n",
       "3                0                0                0                0   \n",
       "4                0                0                0                0   \n",
       "\n",
       "   17_StoreCluster  18_StoreCluster  19_StoreCluster  1_StoreCluster  \\\n",
       "0                0                0                0               0   \n",
       "1                0                0                0               0   \n",
       "2                0                0                0               0   \n",
       "3                0                0                0               0   \n",
       "4                0                0                0               0   \n",
       "\n",
       "   20_StoreCluster  21_StoreCluster  22_StoreCluster  23_StoreCluster  \\\n",
       "0                0                0                0                0   \n",
       "1                0                0                0                0   \n",
       "2                0                0                0                0   \n",
       "3                0                0                0                0   \n",
       "4                0                0                0                0   \n",
       "\n",
       "   24_StoreCluster  2_StoreCluster  3_StoreCluster  4_StoreCluster  \\\n",
       "0                0               0               0               0   \n",
       "1                0               0               0               0   \n",
       "2                0               0               0               0   \n",
       "3                0               0               0               0   \n",
       "4                0               0               0               0   \n",
       "\n",
       "   5_StoreCluster  6_StoreCluster  7_StoreCluster  8_StoreCluster  \\\n",
       "0               0               0               0               1   \n",
       "1               0               0               0               1   \n",
       "2               0               0               0               1   \n",
       "3               0               0               0               1   \n",
       "4               0               0               0               1   \n",
       "\n",
       "   9_StoreCluster  0_DayOfWeek  1_DayOfWeek  2_DayOfWeek  3_DayOfWeek  \\\n",
       "0               0            0            0            1            0   \n",
       "1               0            0            0            0            1   \n",
       "2               0            0            0            0            0   \n",
       "3               0            0            0            0            0   \n",
       "4               0            1            0            0            0   \n",
       "\n",
       "   4_DayOfWeek  5_DayOfWeek  6_DayOfWeek  0_DaysLeft  1_DaysLeft  2_DaysLeft  \\\n",
       "0            0            0            0           1           0           0   \n",
       "1            0            0            0           1           0           0   \n",
       "2            1            0            0           1           0           0   \n",
       "3            0            1            0           1           0           0   \n",
       "4            0            0            0           1           0           0   \n",
       "\n",
       "   3_DaysLeft  4_DaysLeft  5_DaysLeft  6_DaysLeft  0_DaysAfter  1_DaysAfter  \\\n",
       "0           0           0           0           0            1            0   \n",
       "1           0           0           0           0            1            0   \n",
       "2           0           0           0           0            1            0   \n",
       "3           0           0           0           0            1            0   \n",
       "4           0           0           0           0            1            0   \n",
       "\n",
       "   2_DaysAfter  3_DaysAfter  4_DaysAfter  5_DaysAfter  6_DaysAfter  \n",
       "0            0            0            0            0            0  \n",
       "1            0            0            0            0            0  \n",
       "2            0            0            0            0            0  \n",
       "3            0            0            0            0            0  \n",
       "4            0            0            0            0            0  "
      ]
     },
     "execution_count": 23,
     "metadata": {},
     "output_type": "execute_result"
    }
   ],
   "source": [
    "train.head(5)"
   ]
  },
  {
   "cell_type": "code",
   "execution_count": 24,
   "metadata": {
    "collapsed": false
   },
   "outputs": [
    {
     "data": {
      "text/html": [
       "<div>\n",
       "<table border=\"1\" class=\"dataframe\">\n",
       "  <thead>\n",
       "    <tr style=\"text-align: right;\">\n",
       "      <th></th>\n",
       "      <th>Id</th>\n",
       "      <th>Store</th>\n",
       "      <th>DayOfWeek</th>\n",
       "      <th>Date</th>\n",
       "      <th>Open</th>\n",
       "      <th>Promo</th>\n",
       "      <th>StateHoliday</th>\n",
       "      <th>SchoolHoliday</th>\n",
       "      <th>DaysLeft</th>\n",
       "      <th>DaysAfter</th>\n",
       "      <th>StoreType</th>\n",
       "      <th>Assortment</th>\n",
       "      <th>CompetitionDistance</th>\n",
       "      <th>CompetitionOpenSinceMonth</th>\n",
       "      <th>CompetitionOpenSinceYear</th>\n",
       "      <th>Promo2</th>\n",
       "      <th>Promo2SinceWeek</th>\n",
       "      <th>Promo2SinceYear</th>\n",
       "      <th>PromoInterval</th>\n",
       "      <th>WeatherBad</th>\n",
       "      <th>SearchRossmanGermany</th>\n",
       "      <th>SearchRossmanWorld</th>\n",
       "      <th>EurUsdRate</th>\n",
       "      <th>Year</th>\n",
       "      <th>Month</th>\n",
       "      <th>Day</th>\n",
       "      <th>WeekOfYear</th>\n",
       "      <th>CompetitionOpen</th>\n",
       "      <th>PromoOpen</th>\n",
       "      <th>IsPromoMonth</th>\n",
       "      <th>StoreCluster</th>\n",
       "      <th>10_StoreCluster</th>\n",
       "      <th>11_StoreCluster</th>\n",
       "      <th>12_StoreCluster</th>\n",
       "      <th>13_StoreCluster</th>\n",
       "      <th>14_StoreCluster</th>\n",
       "      <th>15_StoreCluster</th>\n",
       "      <th>16_StoreCluster</th>\n",
       "      <th>17_StoreCluster</th>\n",
       "      <th>18_StoreCluster</th>\n",
       "      <th>19_StoreCluster</th>\n",
       "      <th>1_StoreCluster</th>\n",
       "      <th>20_StoreCluster</th>\n",
       "      <th>21_StoreCluster</th>\n",
       "      <th>22_StoreCluster</th>\n",
       "      <th>23_StoreCluster</th>\n",
       "      <th>24_StoreCluster</th>\n",
       "      <th>2_StoreCluster</th>\n",
       "      <th>3_StoreCluster</th>\n",
       "      <th>4_StoreCluster</th>\n",
       "      <th>5_StoreCluster</th>\n",
       "      <th>6_StoreCluster</th>\n",
       "      <th>7_StoreCluster</th>\n",
       "      <th>8_StoreCluster</th>\n",
       "      <th>9_StoreCluster</th>\n",
       "      <th>0_DayOfWeek</th>\n",
       "      <th>1_DayOfWeek</th>\n",
       "      <th>2_DayOfWeek</th>\n",
       "      <th>3_DayOfWeek</th>\n",
       "      <th>4_DayOfWeek</th>\n",
       "      <th>5_DayOfWeek</th>\n",
       "      <th>6_DayOfWeek</th>\n",
       "      <th>0_DaysLeft</th>\n",
       "      <th>1_DaysLeft</th>\n",
       "      <th>2_DaysLeft</th>\n",
       "      <th>3_DaysLeft</th>\n",
       "      <th>4_DaysLeft</th>\n",
       "      <th>5_DaysLeft</th>\n",
       "      <th>6_DaysLeft</th>\n",
       "      <th>0_DaysAfter</th>\n",
       "      <th>1_DaysAfter</th>\n",
       "      <th>2_DaysAfter</th>\n",
       "      <th>3_DaysAfter</th>\n",
       "      <th>4_DaysAfter</th>\n",
       "      <th>5_DaysAfter</th>\n",
       "      <th>6_DaysAfter</th>\n",
       "    </tr>\n",
       "  </thead>\n",
       "  <tbody>\n",
       "    <tr>\n",
       "      <th>0</th>\n",
       "      <td>1</td>\n",
       "      <td>1</td>\n",
       "      <td>3_DayOfWeek</td>\n",
       "      <td>2015-09-17</td>\n",
       "      <td>1</td>\n",
       "      <td>1</td>\n",
       "      <td>0</td>\n",
       "      <td>0</td>\n",
       "      <td>0_DaysLeft</td>\n",
       "      <td>0_DaysAfter</td>\n",
       "      <td>3</td>\n",
       "      <td>1</td>\n",
       "      <td>1270</td>\n",
       "      <td>9</td>\n",
       "      <td>2008</td>\n",
       "      <td>0</td>\n",
       "      <td>0</td>\n",
       "      <td>0</td>\n",
       "      <td></td>\n",
       "      <td>0.945763</td>\n",
       "      <td>75</td>\n",
       "      <td>66</td>\n",
       "      <td>1.13029</td>\n",
       "      <td>2015</td>\n",
       "      <td>9</td>\n",
       "      <td>17</td>\n",
       "      <td>38</td>\n",
       "      <td>84</td>\n",
       "      <td>0</td>\n",
       "      <td>0</td>\n",
       "      <td>8_StoreCluster</td>\n",
       "      <td>0</td>\n",
       "      <td>0</td>\n",
       "      <td>0</td>\n",
       "      <td>0</td>\n",
       "      <td>0</td>\n",
       "      <td>0</td>\n",
       "      <td>0</td>\n",
       "      <td>0</td>\n",
       "      <td>0</td>\n",
       "      <td>0</td>\n",
       "      <td>0</td>\n",
       "      <td>0</td>\n",
       "      <td>0</td>\n",
       "      <td>0</td>\n",
       "      <td>0</td>\n",
       "      <td>0</td>\n",
       "      <td>0</td>\n",
       "      <td>0</td>\n",
       "      <td>0</td>\n",
       "      <td>0</td>\n",
       "      <td>0</td>\n",
       "      <td>0</td>\n",
       "      <td>1</td>\n",
       "      <td>0</td>\n",
       "      <td>0</td>\n",
       "      <td>0</td>\n",
       "      <td>0</td>\n",
       "      <td>1</td>\n",
       "      <td>0</td>\n",
       "      <td>0</td>\n",
       "      <td>0</td>\n",
       "      <td>1</td>\n",
       "      <td>0</td>\n",
       "      <td>0</td>\n",
       "      <td>0</td>\n",
       "      <td>0</td>\n",
       "      <td>0</td>\n",
       "      <td>0</td>\n",
       "      <td>1</td>\n",
       "      <td>0</td>\n",
       "      <td>0</td>\n",
       "      <td>0</td>\n",
       "      <td>0</td>\n",
       "      <td>0</td>\n",
       "      <td>0</td>\n",
       "    </tr>\n",
       "    <tr>\n",
       "      <th>48</th>\n",
       "      <td>2</td>\n",
       "      <td>3</td>\n",
       "      <td>3_DayOfWeek</td>\n",
       "      <td>2015-09-17</td>\n",
       "      <td>1</td>\n",
       "      <td>1</td>\n",
       "      <td>0</td>\n",
       "      <td>0</td>\n",
       "      <td>0_DaysLeft</td>\n",
       "      <td>0_DaysAfter</td>\n",
       "      <td>1</td>\n",
       "      <td>1</td>\n",
       "      <td>14130</td>\n",
       "      <td>12</td>\n",
       "      <td>2006</td>\n",
       "      <td>1</td>\n",
       "      <td>14</td>\n",
       "      <td>2011</td>\n",
       "      <td>Jan,Apr,Jul,Oct</td>\n",
       "      <td>0.945763</td>\n",
       "      <td>75</td>\n",
       "      <td>66</td>\n",
       "      <td>1.13029</td>\n",
       "      <td>2015</td>\n",
       "      <td>9</td>\n",
       "      <td>17</td>\n",
       "      <td>38</td>\n",
       "      <td>105</td>\n",
       "      <td>54</td>\n",
       "      <td>0</td>\n",
       "      <td>22_StoreCluster</td>\n",
       "      <td>0</td>\n",
       "      <td>0</td>\n",
       "      <td>0</td>\n",
       "      <td>0</td>\n",
       "      <td>0</td>\n",
       "      <td>0</td>\n",
       "      <td>0</td>\n",
       "      <td>0</td>\n",
       "      <td>0</td>\n",
       "      <td>0</td>\n",
       "      <td>0</td>\n",
       "      <td>0</td>\n",
       "      <td>0</td>\n",
       "      <td>1</td>\n",
       "      <td>0</td>\n",
       "      <td>0</td>\n",
       "      <td>0</td>\n",
       "      <td>0</td>\n",
       "      <td>0</td>\n",
       "      <td>0</td>\n",
       "      <td>0</td>\n",
       "      <td>0</td>\n",
       "      <td>0</td>\n",
       "      <td>0</td>\n",
       "      <td>0</td>\n",
       "      <td>0</td>\n",
       "      <td>0</td>\n",
       "      <td>1</td>\n",
       "      <td>0</td>\n",
       "      <td>0</td>\n",
       "      <td>0</td>\n",
       "      <td>1</td>\n",
       "      <td>0</td>\n",
       "      <td>0</td>\n",
       "      <td>0</td>\n",
       "      <td>0</td>\n",
       "      <td>0</td>\n",
       "      <td>0</td>\n",
       "      <td>1</td>\n",
       "      <td>0</td>\n",
       "      <td>0</td>\n",
       "      <td>0</td>\n",
       "      <td>0</td>\n",
       "      <td>0</td>\n",
       "      <td>0</td>\n",
       "    </tr>\n",
       "    <tr>\n",
       "      <th>96</th>\n",
       "      <td>3</td>\n",
       "      <td>7</td>\n",
       "      <td>3_DayOfWeek</td>\n",
       "      <td>2015-09-17</td>\n",
       "      <td>1</td>\n",
       "      <td>1</td>\n",
       "      <td>0</td>\n",
       "      <td>0</td>\n",
       "      <td>0_DaysLeft</td>\n",
       "      <td>0_DaysAfter</td>\n",
       "      <td>1</td>\n",
       "      <td>3</td>\n",
       "      <td>24000</td>\n",
       "      <td>4</td>\n",
       "      <td>2013</td>\n",
       "      <td>0</td>\n",
       "      <td>0</td>\n",
       "      <td>0</td>\n",
       "      <td></td>\n",
       "      <td>0.945763</td>\n",
       "      <td>75</td>\n",
       "      <td>66</td>\n",
       "      <td>1.13029</td>\n",
       "      <td>2015</td>\n",
       "      <td>9</td>\n",
       "      <td>17</td>\n",
       "      <td>38</td>\n",
       "      <td>29</td>\n",
       "      <td>0</td>\n",
       "      <td>0</td>\n",
       "      <td>21_StoreCluster</td>\n",
       "      <td>0</td>\n",
       "      <td>0</td>\n",
       "      <td>0</td>\n",
       "      <td>0</td>\n",
       "      <td>0</td>\n",
       "      <td>0</td>\n",
       "      <td>0</td>\n",
       "      <td>0</td>\n",
       "      <td>0</td>\n",
       "      <td>0</td>\n",
       "      <td>0</td>\n",
       "      <td>0</td>\n",
       "      <td>1</td>\n",
       "      <td>0</td>\n",
       "      <td>0</td>\n",
       "      <td>0</td>\n",
       "      <td>0</td>\n",
       "      <td>0</td>\n",
       "      <td>0</td>\n",
       "      <td>0</td>\n",
       "      <td>0</td>\n",
       "      <td>0</td>\n",
       "      <td>0</td>\n",
       "      <td>0</td>\n",
       "      <td>0</td>\n",
       "      <td>0</td>\n",
       "      <td>0</td>\n",
       "      <td>1</td>\n",
       "      <td>0</td>\n",
       "      <td>0</td>\n",
       "      <td>0</td>\n",
       "      <td>1</td>\n",
       "      <td>0</td>\n",
       "      <td>0</td>\n",
       "      <td>0</td>\n",
       "      <td>0</td>\n",
       "      <td>0</td>\n",
       "      <td>0</td>\n",
       "      <td>1</td>\n",
       "      <td>0</td>\n",
       "      <td>0</td>\n",
       "      <td>0</td>\n",
       "      <td>0</td>\n",
       "      <td>0</td>\n",
       "      <td>0</td>\n",
       "    </tr>\n",
       "    <tr>\n",
       "      <th>144</th>\n",
       "      <td>4</td>\n",
       "      <td>8</td>\n",
       "      <td>3_DayOfWeek</td>\n",
       "      <td>2015-09-17</td>\n",
       "      <td>1</td>\n",
       "      <td>1</td>\n",
       "      <td>0</td>\n",
       "      <td>0</td>\n",
       "      <td>0_DaysLeft</td>\n",
       "      <td>0_DaysAfter</td>\n",
       "      <td>1</td>\n",
       "      <td>1</td>\n",
       "      <td>7520</td>\n",
       "      <td>10</td>\n",
       "      <td>2014</td>\n",
       "      <td>0</td>\n",
       "      <td>0</td>\n",
       "      <td>0</td>\n",
       "      <td></td>\n",
       "      <td>0.945763</td>\n",
       "      <td>75</td>\n",
       "      <td>66</td>\n",
       "      <td>1.13029</td>\n",
       "      <td>2015</td>\n",
       "      <td>9</td>\n",
       "      <td>17</td>\n",
       "      <td>38</td>\n",
       "      <td>11</td>\n",
       "      <td>0</td>\n",
       "      <td>0</td>\n",
       "      <td>7_StoreCluster</td>\n",
       "      <td>0</td>\n",
       "      <td>0</td>\n",
       "      <td>0</td>\n",
       "      <td>0</td>\n",
       "      <td>0</td>\n",
       "      <td>0</td>\n",
       "      <td>0</td>\n",
       "      <td>0</td>\n",
       "      <td>0</td>\n",
       "      <td>0</td>\n",
       "      <td>0</td>\n",
       "      <td>0</td>\n",
       "      <td>0</td>\n",
       "      <td>0</td>\n",
       "      <td>0</td>\n",
       "      <td>0</td>\n",
       "      <td>0</td>\n",
       "      <td>0</td>\n",
       "      <td>0</td>\n",
       "      <td>0</td>\n",
       "      <td>0</td>\n",
       "      <td>1</td>\n",
       "      <td>0</td>\n",
       "      <td>0</td>\n",
       "      <td>0</td>\n",
       "      <td>0</td>\n",
       "      <td>0</td>\n",
       "      <td>1</td>\n",
       "      <td>0</td>\n",
       "      <td>0</td>\n",
       "      <td>0</td>\n",
       "      <td>1</td>\n",
       "      <td>0</td>\n",
       "      <td>0</td>\n",
       "      <td>0</td>\n",
       "      <td>0</td>\n",
       "      <td>0</td>\n",
       "      <td>0</td>\n",
       "      <td>1</td>\n",
       "      <td>0</td>\n",
       "      <td>0</td>\n",
       "      <td>0</td>\n",
       "      <td>0</td>\n",
       "      <td>0</td>\n",
       "      <td>0</td>\n",
       "    </tr>\n",
       "    <tr>\n",
       "      <th>192</th>\n",
       "      <td>5</td>\n",
       "      <td>9</td>\n",
       "      <td>3_DayOfWeek</td>\n",
       "      <td>2015-09-17</td>\n",
       "      <td>1</td>\n",
       "      <td>1</td>\n",
       "      <td>0</td>\n",
       "      <td>0</td>\n",
       "      <td>0_DaysLeft</td>\n",
       "      <td>0_DaysAfter</td>\n",
       "      <td>1</td>\n",
       "      <td>3</td>\n",
       "      <td>2030</td>\n",
       "      <td>8</td>\n",
       "      <td>2000</td>\n",
       "      <td>0</td>\n",
       "      <td>0</td>\n",
       "      <td>0</td>\n",
       "      <td></td>\n",
       "      <td>0.945763</td>\n",
       "      <td>75</td>\n",
       "      <td>66</td>\n",
       "      <td>1.13029</td>\n",
       "      <td>2015</td>\n",
       "      <td>9</td>\n",
       "      <td>17</td>\n",
       "      <td>38</td>\n",
       "      <td>181</td>\n",
       "      <td>0</td>\n",
       "      <td>0</td>\n",
       "      <td>22_StoreCluster</td>\n",
       "      <td>0</td>\n",
       "      <td>0</td>\n",
       "      <td>0</td>\n",
       "      <td>0</td>\n",
       "      <td>0</td>\n",
       "      <td>0</td>\n",
       "      <td>0</td>\n",
       "      <td>0</td>\n",
       "      <td>0</td>\n",
       "      <td>0</td>\n",
       "      <td>0</td>\n",
       "      <td>0</td>\n",
       "      <td>0</td>\n",
       "      <td>1</td>\n",
       "      <td>0</td>\n",
       "      <td>0</td>\n",
       "      <td>0</td>\n",
       "      <td>0</td>\n",
       "      <td>0</td>\n",
       "      <td>0</td>\n",
       "      <td>0</td>\n",
       "      <td>0</td>\n",
       "      <td>0</td>\n",
       "      <td>0</td>\n",
       "      <td>0</td>\n",
       "      <td>0</td>\n",
       "      <td>0</td>\n",
       "      <td>1</td>\n",
       "      <td>0</td>\n",
       "      <td>0</td>\n",
       "      <td>0</td>\n",
       "      <td>1</td>\n",
       "      <td>0</td>\n",
       "      <td>0</td>\n",
       "      <td>0</td>\n",
       "      <td>0</td>\n",
       "      <td>0</td>\n",
       "      <td>0</td>\n",
       "      <td>1</td>\n",
       "      <td>0</td>\n",
       "      <td>0</td>\n",
       "      <td>0</td>\n",
       "      <td>0</td>\n",
       "      <td>0</td>\n",
       "      <td>0</td>\n",
       "    </tr>\n",
       "  </tbody>\n",
       "</table>\n",
       "</div>"
      ],
      "text/plain": [
       "     Id  Store    DayOfWeek       Date  Open  Promo  StateHoliday  \\\n",
       "0     1      1  3_DayOfWeek 2015-09-17     1      1             0   \n",
       "48    2      3  3_DayOfWeek 2015-09-17     1      1             0   \n",
       "96    3      7  3_DayOfWeek 2015-09-17     1      1             0   \n",
       "144   4      8  3_DayOfWeek 2015-09-17     1      1             0   \n",
       "192   5      9  3_DayOfWeek 2015-09-17     1      1             0   \n",
       "\n",
       "     SchoolHoliday    DaysLeft    DaysAfter  StoreType  Assortment  \\\n",
       "0                0  0_DaysLeft  0_DaysAfter          3           1   \n",
       "48               0  0_DaysLeft  0_DaysAfter          1           1   \n",
       "96               0  0_DaysLeft  0_DaysAfter          1           3   \n",
       "144              0  0_DaysLeft  0_DaysAfter          1           1   \n",
       "192              0  0_DaysLeft  0_DaysAfter          1           3   \n",
       "\n",
       "     CompetitionDistance  CompetitionOpenSinceMonth  CompetitionOpenSinceYear  \\\n",
       "0                   1270                          9                      2008   \n",
       "48                 14130                         12                      2006   \n",
       "96                 24000                          4                      2013   \n",
       "144                 7520                         10                      2014   \n",
       "192                 2030                          8                      2000   \n",
       "\n",
       "     Promo2  Promo2SinceWeek  Promo2SinceYear    PromoInterval  WeatherBad  \\\n",
       "0         0                0                0                     0.945763   \n",
       "48        1               14             2011  Jan,Apr,Jul,Oct    0.945763   \n",
       "96        0                0                0                     0.945763   \n",
       "144       0                0                0                     0.945763   \n",
       "192       0                0                0                     0.945763   \n",
       "\n",
       "     SearchRossmanGermany  SearchRossmanWorld  EurUsdRate  Year  Month  Day  \\\n",
       "0                      75                  66     1.13029  2015      9   17   \n",
       "48                     75                  66     1.13029  2015      9   17   \n",
       "96                     75                  66     1.13029  2015      9   17   \n",
       "144                    75                  66     1.13029  2015      9   17   \n",
       "192                    75                  66     1.13029  2015      9   17   \n",
       "\n",
       "     WeekOfYear  CompetitionOpen  PromoOpen  IsPromoMonth     StoreCluster  \\\n",
       "0            38               84          0             0   8_StoreCluster   \n",
       "48           38              105         54             0  22_StoreCluster   \n",
       "96           38               29          0             0  21_StoreCluster   \n",
       "144          38               11          0             0   7_StoreCluster   \n",
       "192          38              181          0             0  22_StoreCluster   \n",
       "\n",
       "     10_StoreCluster  11_StoreCluster  12_StoreCluster  13_StoreCluster  \\\n",
       "0                  0                0                0                0   \n",
       "48                 0                0                0                0   \n",
       "96                 0                0                0                0   \n",
       "144                0                0                0                0   \n",
       "192                0                0                0                0   \n",
       "\n",
       "     14_StoreCluster  15_StoreCluster  16_StoreCluster  17_StoreCluster  \\\n",
       "0                  0                0                0                0   \n",
       "48                 0                0                0                0   \n",
       "96                 0                0                0                0   \n",
       "144                0                0                0                0   \n",
       "192                0                0                0                0   \n",
       "\n",
       "     18_StoreCluster  19_StoreCluster  1_StoreCluster  20_StoreCluster  \\\n",
       "0                  0                0               0                0   \n",
       "48                 0                0               0                0   \n",
       "96                 0                0               0                0   \n",
       "144                0                0               0                0   \n",
       "192                0                0               0                0   \n",
       "\n",
       "     21_StoreCluster  22_StoreCluster  23_StoreCluster  24_StoreCluster  \\\n",
       "0                  0                0                0                0   \n",
       "48                 0                1                0                0   \n",
       "96                 1                0                0                0   \n",
       "144                0                0                0                0   \n",
       "192                0                1                0                0   \n",
       "\n",
       "     2_StoreCluster  3_StoreCluster  4_StoreCluster  5_StoreCluster  \\\n",
       "0                 0               0               0               0   \n",
       "48                0               0               0               0   \n",
       "96                0               0               0               0   \n",
       "144               0               0               0               0   \n",
       "192               0               0               0               0   \n",
       "\n",
       "     6_StoreCluster  7_StoreCluster  8_StoreCluster  9_StoreCluster  \\\n",
       "0                 0               0               1               0   \n",
       "48                0               0               0               0   \n",
       "96                0               0               0               0   \n",
       "144               0               1               0               0   \n",
       "192               0               0               0               0   \n",
       "\n",
       "     0_DayOfWeek  1_DayOfWeek  2_DayOfWeek  3_DayOfWeek  4_DayOfWeek  \\\n",
       "0              0            0            0            1            0   \n",
       "48             0            0            0            1            0   \n",
       "96             0            0            0            1            0   \n",
       "144            0            0            0            1            0   \n",
       "192            0            0            0            1            0   \n",
       "\n",
       "     5_DayOfWeek  6_DayOfWeek  0_DaysLeft  1_DaysLeft  2_DaysLeft  3_DaysLeft  \\\n",
       "0              0            0           1           0           0           0   \n",
       "48             0            0           1           0           0           0   \n",
       "96             0            0           1           0           0           0   \n",
       "144            0            0           1           0           0           0   \n",
       "192            0            0           1           0           0           0   \n",
       "\n",
       "     4_DaysLeft  5_DaysLeft  6_DaysLeft  0_DaysAfter  1_DaysAfter  \\\n",
       "0             0           0           0            1            0   \n",
       "48            0           0           0            1            0   \n",
       "96            0           0           0            1            0   \n",
       "144           0           0           0            1            0   \n",
       "192           0           0           0            1            0   \n",
       "\n",
       "     2_DaysAfter  3_DaysAfter  4_DaysAfter  5_DaysAfter  6_DaysAfter  \n",
       "0              0            0            0            0            0  \n",
       "48             0            0            0            0            0  \n",
       "96             0            0            0            0            0  \n",
       "144            0            0            0            0            0  \n",
       "192            0            0            0            0            0  "
      ]
     },
     "execution_count": 24,
     "metadata": {},
     "output_type": "execute_result"
    }
   ],
   "source": [
    "# note Id is not sorted now\n",
    "test = test.sort('Id')\n",
    "test.head(5) "
   ]
  },
  {
   "cell_type": "code",
   "execution_count": 25,
   "metadata": {
    "collapsed": false,
    "slideshow": {
     "slide_type": "slide"
    }
   },
   "outputs": [
    {
     "name": "stdout",
     "output_type": "stream",
     "text": [
      "['Open', 'Promo', 'StateHoliday', 'SchoolHoliday', 'Day', 'Month', 'Year', 'StoreType', 'Assortment', 'CompetitionDistance', 'CompetitionOpenSinceMonth', 'CompetitionOpenSinceYear', 'Promo2', 'Promo2SinceWeek', 'Promo2SinceYear', 'WeatherBad', 'SearchRossmanGermany', 'SearchRossmanWorld', 'EurUsdRate', 'WeekOfYear', 'CompetitionOpen', 'PromoOpen', 'IsPromoMonth', '10_StoreCluster', '11_StoreCluster', '12_StoreCluster', '13_StoreCluster', '14_StoreCluster', '15_StoreCluster', '16_StoreCluster', '17_StoreCluster', '18_StoreCluster', '19_StoreCluster', '1_StoreCluster', '20_StoreCluster', '21_StoreCluster', '22_StoreCluster', '23_StoreCluster', '24_StoreCluster', '2_StoreCluster', '3_StoreCluster', '4_StoreCluster', '5_StoreCluster', '6_StoreCluster', '7_StoreCluster', '8_StoreCluster', '9_StoreCluster', '0_DayOfWeek', '1_DayOfWeek', '2_DayOfWeek', '3_DayOfWeek', '4_DayOfWeek', '5_DayOfWeek', '6_DayOfWeek', '0_DaysLeft', '1_DaysLeft', '2_DaysLeft', '3_DaysLeft', '4_DaysLeft', '5_DaysLeft', '6_DaysLeft', '0_DaysAfter', '1_DaysAfter', '2_DaysAfter', '3_DaysAfter', '4_DaysAfter', '5_DaysAfter', '6_DaysAfter']\n"
     ]
    }
   ],
   "source": [
    "# set up training features \n",
    "\n",
    "# from this we have to remove the original categorical and the string columns \n",
    "# AND the customers column that is not available in the test\n",
    "# Gert predicted the customers also and used that to further help his prediction on the sales\n",
    "numerics = ['int16', 'int32', 'int64', 'float16', 'float32', 'float64']\n",
    "\n",
    "features = train.select_dtypes(include=numerics).columns.values.tolist()\n",
    "features.remove('Customers')\n",
    "features.remove('Store') # categorical but is numeric\n",
    "features.remove('Sales') # Of course let's remove the outcome\n",
    "print(features)"
   ]
  },
  {
   "cell_type": "code",
   "execution_count": 26,
   "metadata": {
    "collapsed": false
   },
   "outputs": [],
   "source": [
    "from sklearn.cross_validation import train_test_split\n",
    "\n",
    "# create test set\n",
    "X = train.loc[:,features]\n",
    "y = train.loc[:,'Sales']\n",
    "train_base_x, train_validation_x, train_base_y, train_validation_y = train_test_split( X, y, test_size = 0.2 )\n",
    "\n",
    "# Note Gert here did not randomly chose the hold out set but \n",
    "# he chose consecutive days"
   ]
  },
  {
   "cell_type": "markdown",
   "metadata": {
    "slideshow": {
     "slide_type": "slide"
    }
   },
   "source": [
    "# Models"
   ]
  },
  {
   "cell_type": "markdown",
   "metadata": {
    "slideshow": {
     "slide_type": "slide"
    }
   },
   "source": [
    "# What models have we tried?\n",
    "\n",
    "- Linear regression, Ridge, Elasticnet, SVM etc. (we are not going to talk about these)\n",
    "- Trees, forests (we are not going to talk about these either)\n",
    "- Gradient Boosting (scikit)\n",
    "- Neural networks (keras + theano)"
   ]
  },
  {
   "cell_type": "markdown",
   "metadata": {
    "slideshow": {
     "slide_type": "slide"
    }
   },
   "source": [
    "# Gradient boosting\n",
    "\n",
    "**Gradient boosting is the Holy Grail of several machine learning problems today**\n",
    "- Almost every winning solution on Kaggle used it\n",
    "    \n",
    "**Gradient boosting is practically a huge ensemble of decision trees**\n",
    "- The term _gradient_ refers to gradient descent\n",
    "- Each tree is a step on the gradient\n",
    "- Adds weight to training examples\n",
    "- Learning rate ~ number of trees\n",
    "    \n",
    "**Strong regularization: **\n",
    "- Control model complexity:\n",
    "   - tree size and structure\n",
    "- Add randomness to the training\n",
    "   - subset of features, subset of samples etc.\n",
    "\n",
    "*The difference between scikit GBM and XGBoost is... well actually as far as I see XGBoost gives you a little more option in logistic regression problems (e.g. max delta step)*"
   ]
  },
  {
   "cell_type": "markdown",
   "metadata": {
    "slideshow": {
     "slide_type": "slide"
    }
   },
   "source": [
    "# Why gradient boosting\n",
    "\n",
    "1. Handles well features of different scales\n",
    "2. Support different loss functions\n",
    "3. Can handle complex feature interactions and patterns\n",
    "\n",
    "However:\n",
    "1. Slow to train\n",
    "2. Often comes as a black box"
   ]
  },
  {
   "cell_type": "markdown",
   "metadata": {
    "slideshow": {
     "slide_type": "slide"
    }
   },
   "source": [
    "# How it works\n",
    "\n",
    "The objective function consists of the sum of the Loss and Regularization parameter ($\\Omega$). So:\n",
    "\n",
    "$$Objective(\\Theta) = Loss(\\Theta) + \\Omega(\\Theta)$$\n",
    "\n",
    "Where $\\Theta$ is the parameter set to be defined.\n",
    "The loss function that we used was \n",
    "\n",
    "$$\\begin{align}\n",
    "Loss(\\Theta) = \\left\\{ \\begin{array}{cl}\n",
    "\\frac{1}{2} \\left[y-\\hat{y}\\right]^2 & \\text{for }|y-\\hat{y}| \\le \\alpha, \\\\\n",
    "\\alpha \\left(|y-\\hat{y}|-\\alpha/2\\right) & \\text{for }|y-\\hat{y}| \\gt \\alpha\n",
    "\\end{array}\\right.\n",
    "\\end{align} $$\n",
    "\n",
    "Where $\\alpha$ was equal to $Q(.56)$ (that is ~median). This loss function applies squared loss for small residuals, but absolute loss for larger. Could be better then squared loss, when outliers would pull the squared loss from optimum. \n",
    "\n",
    "Huber, P. J. (1964). Robust estimation of a location parameter. The Annals of Mathematical Statistics, 35(1), 73-101."
   ]
  },
  {
   "cell_type": "markdown",
   "metadata": {
    "slideshow": {
     "slide_type": "slide"
    }
   },
   "source": [
    "# The hyperparameters\n",
    "\n",
    "There are several parameters to set (both for the loss and for the regularization)\n",
    "- One can use grid search or random search for the parameter tuning\n",
    "- Or the available parameters on the forum and only finetune them (i.e. Gert)\n",
    "\n",
    "![RSvsGS](http://blog.kaggle.com/wp-content/uploads/2015/07/scikitlearn8.jpeg)\n",
    "\n",
    "Bergstra, J., & Bengio, Y. (2012). Random search for hyper-parameter optimization. The Journal of Machine Learning Research, 13(1), 281-305.\n",
    "ISO 690\t"
   ]
  },
  {
   "cell_type": "code",
   "execution_count": 27,
   "metadata": {
    "collapsed": false,
    "slideshow": {
     "slide_type": "slide"
    }
   },
   "outputs": [
    {
     "data": {
      "text/plain": [
       "{'alpha': 0.1488202120136839,\n",
       " 'learning_rate': 0.3114262700288696,\n",
       " 'loss': 'ls',\n",
       " 'max_depth': 4,\n",
       " 'min_samples_leaf': 11,\n",
       " 'subsample': 0.9627646211439049}"
      ]
     },
     "execution_count": 27,
     "metadata": {},
     "output_type": "execute_result"
    }
   ],
   "source": [
    "import random\n",
    "from sklearn.grid_search import RandomizedSearchCV\n",
    "from sklearn import ensemble\n",
    "from scipy.stats import uniform, randint\n",
    "\n",
    "# it is not necessary to search the parameters using the complete training set\n",
    "training_subset = random.sample(range(len(train_base_x)),800) # this is intentionnaly so low it was 80000 in the competition\n",
    "train_sample_x = train_base_x.iloc[training_subset,]\n",
    "train_sample_y = train_base_y.iloc[training_subset,]\n",
    "\n",
    "# note, this is not the whole parameter set of scikit (neither of XGBoost)\n",
    "parameters = { 'learning_rate': uniform(), #0.426348401220647\n",
    "               'max_depth' : [4, None], # None\n",
    "               'min_samples_leaf' : randint(10, 100), #45\n",
    "               'loss' : ['ls', 'lad', 'huber', 'quantile'], #'huber'\n",
    "               'subsample' : uniform(), #0.7675104474139473\n",
    "               'alpha': uniform()} #0.560116434370429\n",
    "\n",
    "model = ensemble.GradientBoostingRegressor(n_estimators = 100, verbose = 0)\n",
    "\n",
    "params_found = RandomizedSearchCV(model, param_distributions = parameters,\n",
    "                               n_iter = 100, n_jobs = -1).fit(train_sample_x,train_sample_y)\n",
    "params_found.best_params_"
   ]
  },
  {
   "cell_type": "markdown",
   "metadata": {
    "slideshow": {
     "slide_type": "slide"
    }
   },
   "source": [
    "# Training and fitting of gradient boost model"
   ]
  },
  {
   "cell_type": "code",
   "execution_count": 28,
   "metadata": {
    "collapsed": false
   },
   "outputs": [
    {
     "name": "stdout",
     "output_type": "stream",
     "text": [
      "      Iter       Train Loss      OOB Improve   Remaining Time \n",
      "         1     7924886.3356     1694369.7223            9.25m\n",
      "         2     6854009.4164     1132722.4515           10.39m\n",
      "         3     6045046.3758      802708.0835            9.75m\n",
      "         4     5306670.7300      737789.4309            9.05m\n",
      "         5     4794341.1294      521248.8958            8.37m\n",
      "         6     4349407.7204      424369.9625            8.30m\n",
      "         7     3993613.6836      352966.2646            8.08m\n",
      "         8     3732460.8015      262263.7742            7.71m\n",
      "         9     3458674.5739      267828.3985            7.48m\n",
      "        10     3214343.8622      257118.6627            7.31m\n",
      "        11     3022715.9556      189443.5004            7.30m\n",
      "        12     2844473.4652      170463.1538            7.16m\n",
      "        13     2711873.5502      144630.4449            6.92m\n",
      "        14     2599217.1565      117704.8078            6.74m\n",
      "        15     2484636.6463      118964.8835            6.75m\n",
      "        16     2398059.7977       90492.0325            6.61m\n",
      "        17     2301836.2740       92128.7265            6.55m\n",
      "        18     2231418.7853       69876.5811            6.42m\n",
      "        19     2162917.7892       66652.5616            6.25m\n",
      "        20     2107310.5006       56528.8757            6.13m\n",
      "        21     2056627.5739       49859.0708            6.01m\n",
      "        22     1986463.1787       67626.8977            5.98m\n",
      "        23     1946469.5178       31450.2771            5.86m\n",
      "        24     1904485.7656       42375.9036            5.78m\n",
      "        25     1874292.5074       30544.3420            5.68m\n",
      "        26     1836282.6458       36172.6973            5.58m\n",
      "        27     1805944.4321       34269.8407            5.53m\n",
      "        28     1775456.4518       31916.1725            5.45m\n",
      "        29     1750780.2910       20522.9038            5.34m\n",
      "        30     1728234.8670       22382.2920            5.27m\n",
      "        31     1705849.7573       18336.8186            5.19m\n",
      "        32     1696083.0218       11657.3725            5.09m\n",
      "        33     1672407.8042       20678.3525            5.02m\n",
      "        34     1655014.9339       14566.1379            4.93m\n",
      "        35     1622166.4533       32774.0191            4.90m\n",
      "        36     1610322.8518       14295.6877            4.80m\n",
      "        37     1597551.6558       13097.2122            4.71m\n",
      "        38     1577772.9512       17900.0960            4.63m\n",
      "        39     1565017.9301       12888.5553            4.55m\n",
      "        40     1544617.3809       20486.2002            4.50m\n",
      "        41     1508433.4780       35404.9662            4.44m\n",
      "        42     1497778.8369       10273.6939            4.35m\n",
      "        43     1489812.7585        8489.3945            4.27m\n",
      "        44     1481106.0725        5358.9700            4.18m\n",
      "        45     1476006.1154        7931.1543            4.09m\n",
      "        46     1466603.5175        6141.5811            4.02m\n",
      "        47     1458927.5571        7780.1065            3.94m\n",
      "        48     1445946.9609       14986.9274            3.88m\n",
      "        49     1437324.2484       10808.7616            3.80m\n",
      "        50     1428395.6313        9780.4278            3.73m\n",
      "        51     1421732.0404        5238.9681            3.65m\n",
      "        52     1411865.3564        8111.7093            3.58m\n",
      "        53     1407186.2329        5438.7442            3.51m\n",
      "        54     1402738.4485        5564.3776            3.43m\n",
      "        55     1398041.6234        3967.6655            3.35m\n",
      "        56     1388634.9897        8824.0922            3.28m\n",
      "        57     1382463.7704        3721.0624            3.20m\n",
      "        58     1375111.8005        7949.8628            3.12m\n",
      "        59     1368169.2526        7329.5270            3.05m\n",
      "        60     1355172.2165       10532.3874            2.99m\n",
      "        61     1349368.0073        5813.2439            2.91m\n",
      "        62     1345793.7896        4116.2429            2.82m\n",
      "        63     1338888.3069        9507.6903            2.74m\n",
      "        64     1334179.5252        5467.3345            2.68m\n",
      "        65     1328172.1450        5081.1248            2.61m\n",
      "        66     1325405.6624        3519.6267            2.53m\n",
      "        67     1313722.2704       10667.1395            2.46m\n",
      "        68     1306467.4245        9919.1880            2.38m\n",
      "        69     1295690.5339        9729.6104            2.31m\n",
      "        70     1291453.5662        1886.3609            2.23m\n",
      "        71     1289069.8800        1874.3648            2.15m\n",
      "        72     1284112.9839        4586.9766            2.07m\n",
      "        73     1282241.3223        4668.6873            2.00m\n",
      "        74     1276148.5099        3420.6221            1.92m\n",
      "        75     1270807.8985        5120.0382            1.85m\n",
      "        76     1265229.2299        6156.7764            1.78m\n",
      "        77     1262642.0370        2885.4124            1.71m\n",
      "        78     1254783.7294        5156.0675            1.64m\n",
      "        79     1249981.8648        9361.1182            1.57m\n",
      "        80     1244534.6621         199.6996            1.49m\n",
      "        81     1242618.6210        3764.8827            1.41m\n",
      "        82     1239972.8612        3880.7277            1.34m\n",
      "        83     1236972.8838        2875.1280            1.27m\n",
      "        84     1233547.5433        4485.0109            1.20m\n",
      "        85     1226295.7607        5079.3669            1.12m\n",
      "        86     1222079.8621        5684.7369            1.05m\n",
      "        87     1218470.7264        3731.3162           58.38s\n",
      "        88     1213958.9449        2492.2334           53.75s\n",
      "        89     1211262.0233        3641.6902           49.33s\n",
      "        90     1209055.4887        2174.6666           44.75s\n",
      "        91     1205447.7677        5760.9629           40.34s\n",
      "        92     1201554.4237        4011.1632           35.92s\n",
      "        93     1197130.5160        3446.9511           31.51s\n",
      "        94     1197259.9298        1611.3755           26.97s\n",
      "        95     1193324.4202        -388.0543           22.42s\n",
      "        96     1192187.5952        1838.7264           17.93s\n",
      "        97     1188067.6579        2071.5737           13.44s\n",
      "        98     1188631.4456        1824.7069            8.94s\n",
      "        99     1181994.7580        6161.9572            4.48s\n",
      "       100     1178359.2738        3670.0596            0.00s\n"
     ]
    }
   ],
   "source": [
    "model = ensemble.GradientBoostingRegressor(n_estimators = 100, verbose = 100, # in the challenge we used 3000 estimators\n",
    "                                               learning_rate = params_found.best_params_['learning_rate'],\n",
    "                                               loss = params_found.best_params_['loss'],\n",
    "                                               max_depth = params_found.best_params_['max_depth'],\n",
    "                                               min_samples_leaf = params_found.best_params_['min_samples_leaf'],\n",
    "                                               subsample = params_found.best_params_['subsample'])\n",
    "\n",
    "model = model.fit(train_base_x,train_base_y)"
   ]
  },
  {
   "cell_type": "code",
   "execution_count": 29,
   "metadata": {
    "collapsed": false,
    "slideshow": {
     "slide_type": "slide"
    }
   },
   "outputs": [
    {
     "name": "stdout",
     "output_type": "stream",
     "text": [
      "Saving model as 02_25_2016_18hrs05mins_0.226071770056.pkl\n"
     ]
    },
    {
     "data": {
      "image/png": "[encoded data removed]",
      "text/plain": [
       "<matplotlib.figure.Figure at 0x9a43198>"
      ]
     },
     "metadata": {},
     "output_type": "display_data"
    }
   ],
   "source": [
    "# Let's see how the model performed\n",
    "rosshellfun.plot_results(model, train_base_x, train_validation_x, \n",
    "                         train_base_y, train_validation_y, savemodel = True)"
   ]
  },
  {
   "cell_type": "code",
   "execution_count": 30,
   "metadata": {
    "collapsed": false,
    "slideshow": {
     "slide_type": "slide"
    }
   },
   "outputs": [
    {
     "data": {
      "image/png": "[encoded data removed]",
      "text/plain": [
       "<matplotlib.figure.Figure at 0x834bf98>"
      ]
     },
     "metadata": {},
     "output_type": "display_data"
    }
   ],
   "source": [
    "# let's see the relative importance of features\n",
    "rosshellfun.plot_feature_importances(model, features)"
   ]
  },
  {
   "cell_type": "markdown",
   "metadata": {
    "slideshow": {
     "slide_type": "slide"
    }
   },
   "source": [
    "# Summary of the gradient boosting\n",
    "\n",
    "- It is a good, transparent (at least we think), realiable solution for regression\n",
    "- This model was not able to compete with the highest ranked models \n",
    "    - Reason is that normally they used additional steps (such as Customers number prediction)\n",
    "    - We made a mistake that took a long time to find: the dummy columns for the daysofweek were converted at some point to float, and so this feature was not included in the prediction"
   ]
  },
  {
   "cell_type": "code",
   "execution_count": 31,
   "metadata": {
    "collapsed": false
   },
   "outputs": [],
   "source": [
    "test['Sales'] = model.predict(test.loc[:,features])\n",
    "test.loc[test['Open'] == 0,'Sales'] = 0\n",
    "test.loc[:,['Id','Sales']].set_index('Id',drop = True).to_csv('submission_gbrt.csv')"
   ]
  },
  {
   "cell_type": "markdown",
   "metadata": {
    "slideshow": {
     "slide_type": "slide"
    }
   },
   "source": [
    "# Neural Networks and Deep Learning\n"
   ]
  },
  {
   "cell_type": "markdown",
   "metadata": {
    "slideshow": {
     "slide_type": "subslide"
    }
   },
   "source": [
    "![RSvsGS](http://cs231n.github.io/assets/nn1/neuron.png)\n"
   ]
  },
  {
   "cell_type": "markdown",
   "metadata": {
    "slideshow": {
     "slide_type": "subslide"
    }
   },
   "source": [
    "![RSvsGS](http://cs231n.github.io/assets/nn1/neuron_model.jpeg)\n"
   ]
  },
  {
   "cell_type": "markdown",
   "metadata": {
    "slideshow": {
     "slide_type": "subslide"
    }
   },
   "source": [
    "![RSvsGS](http://cs231n.github.io/assets/nn1/neural_net2.jpeg)"
   ]
  },
  {
   "cell_type": "markdown",
   "metadata": {
    "slideshow": {
     "slide_type": "subslide"
    }
   },
   "source": [
    "![RSvsGS](http://image.slidesharecdn.com/pydata15nlpcvsinglemodelwideforpdf-150621143923-lva1-app6892/95/python-for-image-understanding-deep-learning-with-convolutional-neural-nets-8-638.jpg?cb=1434897944)"
   ]
  },
  {
   "cell_type": "markdown",
   "metadata": {
    "slideshow": {
     "slide_type": "slide"
    }
   },
   "source": [
    "# Can we use neural networks/deep learning for time series prediciton?\n",
    "\n"
   ]
  },
  {
   "cell_type": "markdown",
   "metadata": {
    "slideshow": {
     "slide_type": "subslide"
    }
   },
   "source": [
    "# “Yes, you can kill a mouse with a rocket propelled grenade. And yes, you can use neural networks on time series.” \n",
    "\n",
    "(answer from Quora)"
   ]
  },
  {
   "cell_type": "markdown",
   "metadata": {
    "slideshow": {
     "slide_type": "slide"
    }
   },
   "source": [
    "# Building a Model is not necessarily easy\n",
    "\n",
    "- Weight initialization\n",
    "\n",
    "- Activation functions\n",
    "\n",
    "- Size of network\n",
    "\n",
    "    - Number of layers\n",
    "    - Number of neurons per layer\n",
    "    \n",
    "- Normalization\n",
    "    - Dropout\n",
    "    - Batch Normalization\n",
    "\n",
    "- Optimizers\n",
    "\n",
    "- Batch Size\n",
    "\n",
    "**We used Keras**\n",
    "- Keras is a deep learning framework that runs on top of Theano or TensorFlow\n",
    "    - Theano is one of the most three most important deep learning frameworks \n",
    "    - (others important frameworks being Torch and Caffee)\n",
    "    - TensorFlow is Google’s deep learning framework, that was made publicly available last year\n"
   ]
  },
  {
   "cell_type": "markdown",
   "metadata": {
    "slideshow": {
     "slide_type": "subslide"
    }
   },
   "source": [
    "# Weight initialization\n",
    "\n",
    "Weight initialization defines the probability distribution used to set the initial random weights of layers.\n",
    "\n",
    "**Available methods in Keras:**\n",
    "\n",
    "   - uniform\n",
    "   - lecun_uniform: Uniform initialization scaled by the square root of the number of inputs (LeCun 98)\n",
    "   - normal\n",
    "   - identity: Use with square 2D layers (shape[0] == shape[1])\n",
    "   - orthogonal: Use with square 2D layers (shape[0] == shape[1])\n",
    "   - zero\n",
    "   - glorot_normal: Gaussian initialization scaled by fan_in + fan_out (Glorot 2010)\n",
    "   - glorot_uniform\n",
    "   - he_normal: Gaussian initialization scaled by fan_in (He et al., 2014)\n",
    "   - he_uniform"
   ]
  },
  {
   "cell_type": "markdown",
   "metadata": {
    "slideshow": {
     "slide_type": "subslide"
    }
   },
   "source": [
    "# Activation functions\n",
    "\n",
    "Activations that are more complex than a simple Theano/TensorFlow function (eg. learnable activations, configurable activations, etc.) are also available in Keras:\n",
    "\n",
    "   - Relu\n",
    "   - LeakyReLU   \n",
    "   - PReLU\n",
    "       - Parametric Rectified Linear Unit (PReLU). This activation function adaptively learns the parameters of the rectifiers, and improves accuracy at negligible extra computational cost\n",
    "       - http://arxiv.org/pdf/1502.01852v1.pdf\n"
   ]
  },
  {
   "cell_type": "markdown",
   "metadata": {
    "slideshow": {
     "slide_type": "subslide"
    }
   },
   "source": [
    "# Optimizers\n",
    "\n",
    "   - SGD\n",
    "      - Stochastic gradient descent, with support for momentum, decay, and Nesterov momentum.\n",
    "   - RMSProp\n",
    "   - Adagrad\n",
    "   - Adadelta\n",
    "   - Adam\n",
    "       - the name Adam is derived from adaptive moment estimation\n",
    "       - http://arxiv.org/pdf/1412.6980v8.pdf      \n",
    "       "
   ]
  },
  {
   "cell_type": "code",
   "execution_count": null,
   "metadata": {
    "collapsed": true,
    "slideshow": {
     "slide_type": "subslide"
    }
   },
   "outputs": [],
   "source": [
    "from keras.models import Sequential\n",
    "from keras.layers.core import Dense, Activation, Dropout\n",
    "from keras.optimizers import Adam\n",
    "from keras.layers.advanced_activations import PReLU\n",
    "from keras.layers.normalization import BatchNormalization\n",
    "\n",
    "model = Sequential()\n",
    "model.add(Dense(50, input_dim=1242, init='he_normal'))\n",
    "model.add(PReLU())\n",
    "#model.add(BatchNormalization())\n",
    "#model.add(Dropout(0.5))\n",
    "\n",
    "model.add(Dense(50, init='he_normal'))\n",
    "model.add(PReLU())\n",
    "#model.add(BatchNormalization())\n",
    "#model.add(Dropout(0.5))\n",
    "\n",
    "model.add(Dense(1, init='he_normal'))\n",
    "model.add(Activation('sigmoid'))\n",
    "\n",
    "adam = Adam(lr=0.001, beta_1=0.9, beta_2=0.999, epsilon=1e-8)\n",
    "model.compile(loss='mse', optimizer=adam)"
   ]
  },
  {
   "cell_type": "markdown",
   "metadata": {
    "slideshow": {
     "slide_type": "slide"
    }
   },
   "source": [
    "# Scaling relevant features for use in neural networks\n"
   ]
  },
  {
   "cell_type": "code",
   "execution_count": null,
   "metadata": {
    "collapsed": false,
    "slideshow": {
     "slide_type": "subslide"
    }
   },
   "outputs": [],
   "source": [
    "def featureScaling(arr):\n",
    "    min_arr = min(arr); max_arr = max(arr); new_arr = []\n",
    "    for i in arr:\n",
    "        new_arr.append((i - min_arr) / (max_arr - min_arr))\n",
    "    return new_arr"
   ]
  },
  {
   "cell_type": "code",
   "execution_count": null,
   "metadata": {
    "collapsed": true,
    "slideshow": {
     "slide_type": "subslide"
    }
   },
   "outputs": [],
   "source": [
    "class Vectorizer():\n",
    "    def __init__(self):\n",
    "        self.vectCache = dict()\n",
    "\n",
    "    def vect(self, size, idx):\n",
    "        \"\"\"Retrieves a vector such as [0,0,0,...,idx=1,0,0,...,0] where the size of the vector is 'size'\n",
    "        and all items are zero except the 'idx' numbered element, which is one. \n",
    "        Note: 'idx' numbering starts from 1..size, not from zero, it is 1-indexed.\n",
    "        \"\"\"\n",
    "        if size not in self.vectCache:\n",
    "            print(\"Vectorizer: Generating vectors for size\", size)\n",
    "            arr = []\n",
    "            for i in range(size):\n",
    "                e = [0] * size\n",
    "                e[i] = 1.0\n",
    "                arr.append(e)\n",
    "            self.vectCache[size] = arr\n",
    "        return self.vectCache[size][idx-1]\n",
    "\n",
    "v = Vectorizer()"
   ]
  },
  {
   "cell_type": "markdown",
   "metadata": {
    "slideshow": {
     "slide_type": "subslide"
    }
   },
   "source": [
    "# Scaling train file"
   ]
  },
  {
   "cell_type": "code",
   "execution_count": null,
   "metadata": {
    "collapsed": true
   },
   "outputs": [],
   "source": [
    "df = pd.read_csv('train_extended.csv')\n",
    "df.Sales = df.Sales.apply(np.log1p)\n",
    "df.Customers = df.Customers.apply(np.log1p)\n",
    "df['CompetitionDistanceLog'] = df.CompetitionDistance.apply(np.log1p)\n",
    "df.CompetitionOpen = df.CompetitionOpen + 31\n",
    "df['CompetitionOpenLog'] = df.CompetitionOpen.apply(np.log1p)\n",
    "df.EurUsdRate = df.EurUsdRate - 0.7\n",
    "df.CompetitionOpenNull = df.CompetitionOpenNull + 31\n",
    "df['CompetitionOpenNullLog'] = df.CompetitionOpenNull.apply(np.log1p)\n",
    "\n",
    "new = df\n",
    "\n",
    "a = new['Sales']\n",
    "b = new['Customers']\n",
    "c = new['CompetitionDistance']\n",
    "d = new['CompetitionOpen']\n",
    "e = new['PromoOpen']\n",
    "f = new['CompetitionOpenNull']\n",
    "g = new['CompetitionDistanceLog']\n",
    "h = new['CompetitionOpenLog']\n",
    "i = new['CompetitionOpenNullLog']\n",
    "\n",
    "a_scaled = featureScaling(a)\n",
    "b_scaled = featureScaling(b)\n",
    "c_scaled = featureScaling(c)\n",
    "d_scaled = featureScaling(d)\n",
    "e_scaled = featureScaling(e)\n",
    "f_scaled = featureScaling(f)\n",
    "g_scaled = featureScaling(g)\n",
    "h_scaled = featureScaling(h)\n",
    "i_scaled = featureScaling(i)\n",
    "\n",
    "new['Sales'] = a_scaled\n",
    "new['Customers'] = b_scaled\n",
    "new['CompetitionDistance'] = c_scaled\n",
    "new['CompetitionOpen'] = d_scaled\n",
    "new['PromoOpen'] = e_scaled\n",
    "new['CompetitionOpenNull'] = f_scaled\n",
    "new['CompetitionDistanceLog'] = g_scaled\n",
    "new['CompetitionOpenLog'] = h_scaled\n",
    "new['CompetitionOpenNullLog'] = i_scaled\n",
    "\n",
    "new.to_csv('scaled_train.csv', na_rep='0', header=True, index = False)"
   ]
  },
  {
   "cell_type": "markdown",
   "metadata": {},
   "source": [
    "# Scaling test file"
   ]
  },
  {
   "cell_type": "code",
   "execution_count": null,
   "metadata": {
    "collapsed": true
   },
   "outputs": [],
   "source": [
    "df = pd.read_csv('test_extended.csv')\n",
    "df['CompetitionDistanceLog'] = df.CompetitionDistance.apply(np.log1p)\n",
    "df.CompetitionOpen = df.CompetitionOpen + 31\n",
    "df['CompetitionOpenLog'] = df.CompetitionOpen.apply(np.log1p)\n",
    "df.EurUsdRate = df.EurUsdRate - 0.7\n",
    "df.DaysLeft = df.DaysLeft.astype(int)\n",
    "df.DaysAfter = df.DaysAfter.astype(int)\n",
    "df.CompetitionOpenNull = df.CompetitionOpenNull + 31\n",
    "df['CompetitionOpenNullLog'] = df.CompetitionOpenNull.apply(np.log1p)\n",
    "\n",
    "\n",
    "new = df\n",
    "\n",
    "a = new['CompetitionDistance']\n",
    "d = new['CompetitionOpen']\n",
    "e = new['PromoOpen']\n",
    "f = new['CompetitionOpenNull']\n",
    "g = new['CompetitionDistanceLog']\n",
    "h = new['CompetitionOpenLog']\n",
    "i = new['CompetitionOpenNullLog']\n",
    "\n",
    "a_scaled = featureScaling(a)\n",
    "d_scaled = featureScaling(d)\n",
    "e_scaled = featureScaling(e)\n",
    "f_scaled = featureScaling(f)\n",
    "g_scaled = featureScaling(g)\n",
    "h_scaled = featureScaling(h)\n",
    "i_scaled = featureScaling(i)\n",
    "\n",
    "new['CompetitionDistance'] = a_scaled\n",
    "new['CompetitionOpen'] = d_scaled\n",
    "new['PromoOpen'] = e_scaled\n",
    "new['CompetitionOpenNull'] = f_scaled\n",
    "new['CompetitionDistanceLog'] = g_scaled\n",
    "new['CompetitionOpenLog'] = h_scaled\n",
    "new['CompetitionOpenNullLog'] = i_scaled\n",
    "\n",
    "new.to_csv('scaled_test.csv', na_rep='0', header=True, index = False)"
   ]
  },
  {
   "cell_type": "markdown",
   "metadata": {
    "slideshow": {
     "slide_type": "slide"
    }
   },
   "source": [
    "# Train Test Split\n"
   ]
  },
  {
   "cell_type": "code",
   "execution_count": null,
   "metadata": {
    "collapsed": false,
    "slideshow": {
     "slide_type": "subslide"
    }
   },
   "outputs": [],
   "source": [
    "train = pd.read_csv('scaled_train.csv')\n",
    "shape =  train.shape \n",
    "\n",
    "#shuffle data set, and split to train and test set. \n",
    "df = pd.DataFrame(train)\n",
    "shuffled_train = df.reindex(np.random.permutation(df.index))\n",
    "\n",
    "indice_5_percent = int((shape[0]/100.0)* 5)\n",
    "indice_10_percent = int((shape[0]/100.0)* 10)\n",
    "indice_15_percent = int((shape[0]/100.0)* 15)\n",
    "\n",
    "#for experimenting\n",
    "shuffled_train[:indice_5_percent].to_csv('test_5_split.csv', index=True, columns=train.columns)\n",
    "shuffled_train[indice_5_percent:indice_10_percent].to_csv('train_5_split.csv', index=True, columns=train.columns)\n",
    "\n",
    "#for full scale training\n",
    "shuffled_train[:indice_15_percent].to_csv('test_15_split.csv', index=True, columns=train.columns)\n",
    "shuffled_train[indice_15_percent:].to_csv('train_85_split.csv', index=True, columns=train.columns)"
   ]
  },
  {
   "cell_type": "markdown",
   "metadata": {
    "slideshow": {
     "slide_type": "slide"
    }
   },
   "source": [
    "# Feature selection and parameter setting"
   ]
  },
  {
   "cell_type": "code",
   "execution_count": null,
   "metadata": {
    "collapsed": false,
    "slideshow": {
     "slide_type": "subslide"
    }
   },
   "outputs": [],
   "source": [
    "train_file = 'train_5_split.csv'\n",
    "test_file = 'test_5_split.csv'\n",
    "num_epochs = 1\n",
    "batch_size = 10\n",
    "logging = True  #sets whether to write log file and create submission files\n",
    "\n",
    "def feature_list():\n",
    "    features = v.vect(31, (int(row['Day']))) + \\\n",
    "        v.vect(1115, (int(row['Store']))) +\\\n",
    "        v.vect(52, (int(row['WeekOfYear']))) +\\\n",
    "        v.vect(7, (int(row['DayOfWeek']))) +\\\n",
    "        [row['PromoOpen']] +\\\n",
    "        v.vect(12, (int(row['Month']))) +\\\n",
    "        v.vect(3, (int(row['Year'])-2013)) +\\\n",
    "        [row['Promo']] +\\\n",
    "        v.vect(4, (int(row['StoreType']))) +\\\n",
    "        [row['CompetitionDistance']] +\\\n",
    "        [row['CompetitionOpenNull']] +\\\n",
    "        [row['SchoolHoliday']] +\\\n",
    "        v.vect(3, (int(row['Assortment']))) +\\\n",
    "        [row['IsPromoMonth']] +\\\n",
    "        [row['Promo2']] +\\\n",
    "        v.vect(4, (int(row['StateHoliday']))) +\\\n",
    "        [row['WeatherBad']] +\\\n",
    "        [row['CompetitionDistanceLog']] + \\\n",
    "        [row['CompetitionOpenLog']] +\\\n",
    "        [row['CompetitionOpen']]  \n",
    "              \n",
    "    return features"
   ]
  },
  {
   "cell_type": "markdown",
   "metadata": {
    "slideshow": {
     "slide_type": "slide"
    }
   },
   "source": [
    "# Training the neural network"
   ]
  },
  {
   "cell_type": "code",
   "execution_count": null,
   "metadata": {
    "collapsed": false,
    "slideshow": {
     "slide_type": "subslide"
    }
   },
   "outputs": [],
   "source": [
    "import csv\n",
    "import time\n",
    "\n",
    "training_subset_size = 10000\n",
    "loss = 1\n",
    "losslog = []\n",
    "Time = (time.strftime(\"Day:%d Time:%H:%M\"))\n",
    "\n",
    "df = pd.DataFrame.from_csv(train_file)\n",
    "print (\"Assembling training set and training neural network...\")\n",
    "\n",
    "for epoch in range(1, num_epochs + 1):\n",
    "    n = 1\n",
    "    i = 1\n",
    "    list_a = []\n",
    "    list_b = []\n",
    "    \n",
    "    df = df.reindex(np.random.permutation(df.index))\n",
    "    for index, row in df.iterrows():\n",
    "        if i <= training_subset_size:\n",
    "            if row['Open'] == 1:\n",
    "                features = feature_list()\n",
    "                list_a.append(features)\n",
    "                list_b.append(row['Sales'])\n",
    "                i = i+1\n",
    "        \n",
    "        else:\n",
    "            x = np.array(list_a, dtype=float)\n",
    "            y = np.array(list_b, dtype=float)\n",
    "            model.fit(x, y, batch_size=batch_size, nb_epoch=1, verbose=0)\n",
    "\n",
    "            i = 1\n",
    "            list_a = []\n",
    "            list_b = []        \n",
    "        \n",
    "        if (n % 10000 == 0):\n",
    "            print (n)\n",
    "        n = n + 1\n",
    "   \n",
    "    '''\n",
    "    Evaluating model\n",
    "    '''\n",
    "    n = 1\n",
    "    list_a = []\n",
    "    list_b = []\n",
    "    with open(test_file) as csvfile:\n",
    "        reader = csv.DictReader(csvfile)\n",
    "        for row in reader:\n",
    "            features = feature_list()\n",
    "            list_a.append(features)\n",
    "            list_b.append(row['Sales'])\n",
    "\n",
    "            if (n % 10000 == 0):\n",
    "                print (n)\n",
    "            n = n + 1\n",
    "            \n",
    "        test_x = np.array(list_a, dtype=float)\n",
    "        test_y = np.array(list_b, dtype=float)\n",
    "        \n",
    "        print (\"Performance of the model over validation data (loss score): \\\n",
    "        \" + str(model.evaluate(test_x, test_y, verbose=2)) + \" at epoch:\" + str(epoch))\n",
    "        \n",
    "        if logging == True:\n",
    "            losslog.append((\"Performance of the model over validation data (loss score): \\\n",
    "            \" + str(model.evaluate(test_x, test_y, verbose=2)) + \" at epoch:\" + str(epoch) \\\n",
    "            + \"_\"+time.strftime(\"Day:%d Time:%H:%M\")))\n",
    "            losslog_df = pd.DataFrame(losslog)\n",
    "            losslog_df.to_csv('losslog_'+Time+'_train:_'+str(train_file)+'_test:_'+str(test_file) \\\n",
    "                              +'_batch_'+str(batch_size)+'_epoch_'+str(num_epochs)+'.csv', index_label='Id')\n",
    "    \n",
    "    if model.evaluate(test_x, test_y, verbose=2) < loss and logging == True:\n",
    "        \n",
    "        '''\n",
    "        Creating submission file on scaled_test.csv\n",
    "        '''\n",
    "        print (\"Testing neural network on test file and writing results into submission file...\")\n",
    "\n",
    "        results = []\n",
    "        with open('scaled_test.csv') as csvfile:\n",
    "            reader = csv.DictReader(csvfile)\n",
    "            for row in reader:\n",
    "                list_a = []\n",
    "                features = feature_list()\n",
    "\n",
    "                if row['Open'] == '':\n",
    "                    op = [1.0]\n",
    "                else:\n",
    "                    op = [row['Open']]\n",
    "\n",
    "                list_a.append(features)\n",
    "                x = np.array(list_a, dtype=float)\n",
    "\n",
    "                if row['Open'] == '1.0':\n",
    "                    result = model.predict(x, batch_size=1)\n",
    "                else:\n",
    "                    result = [np.array([0])]\n",
    "\n",
    "                results.extend(result)\n",
    "\n",
    "        '''\n",
    "        Writing results into submission.csv\n",
    "        '''\n",
    "\n",
    "        results = pd.DataFrame(results)\n",
    "        results.T\n",
    "        results = np.exp(results * 10.634700933902529) - 1\n",
    "\n",
    "        results.columns = ['Sales']\n",
    "        results.index += 1\n",
    "        results.to_csv('submission_train_'+str(train_file)+'_test_'+str(test_file) \\\n",
    "                       +'_batch_'+str(batch_size) +'_best_loss:_'+str(model.evaluate(test_x, test_y, verbose=2)) \\\n",
    "                       +'_epoch:_'+str(epoch)+\"_\"+time.strftime(\"Day:%d Time:%H:%M\")+'.csv', index_label='Id')\n",
    "        #\n",
    "        print (\"Finished!!!\")\n",
    "        loss = model.evaluate(test_x, test_y, verbose=2)"
   ]
  },
  {
   "cell_type": "markdown",
   "metadata": {
    "slideshow": {
     "slide_type": "slide"
    }
   },
   "source": [
    "# Bagging submissions\n",
    "\n",
    "\n",
    "\n",
    "![RSvsGS](http://mlwave.com/wp-content/uploads/2015/06/overfit.png)\n",
    "\n",
    "\n",
    "\n",
    "1. NN\t\t0.11884\n",
    "2. NN\t\t0.12003\n",
    "3. NN \t\t0.12017\n",
    "4. NN \t\t0.12300\n",
    "5. NN \t\t0.12488\n",
    "6. NN \t\t0.12553\n",
    "7. NN \t\t0.12628\n",
    "8. NN \t\t0.12769\n",
    "9. NN \t\t0.12792\n",
    "10. NN \t\t0.13235\n",
    "11. NN \t\t0.13462\n",
    "12. NN \t\t0.13484\n",
    "13. NN \t\t0.13491\n",
    "14. NN \t\t0.13550\n",
    "15. NN \t\t0.13580\n",
    "16. NN \t\t0.13913\n",
    "17. NN \t\t0.13945\n",
    "18. NN \t\t0.13962\n",
    "\n",
    "Bagged NN \t0.11053\n"
   ]
  },
  {
   "cell_type": "code",
   "execution_count": null,
   "metadata": {
    "collapsed": false,
    "slideshow": {
     "slide_type": "subslide"
    }
   },
   "outputs": [],
   "source": [
    "df1 = pd.read_csv('tobag/11884.csv')\n",
    "df2 = pd.read_csv('tobag/12003.csv')\n",
    "df3 = pd.read_csv('tobag/12017.csv')\n",
    "df4 = pd.read_csv('tobag/12300.csv')\n",
    "df5 = pd.read_csv('tobag/12488.csv')\n",
    "df6 = pd.read_csv('tobag/12553.csv')\n",
    "df7 = pd.read_csv('tobag/12628.csv')\n",
    "df8 = pd.read_csv('tobag/12769.csv')\n",
    "df9 = pd.read_csv('tobag/12792.csv')\n",
    "df10 = pd.read_csv('tobag/13235.csv')\n",
    "df11 = pd.read_csv('tobag/13462.csv')\n",
    "df12 = pd.read_csv('tobag/13484.csv')\n",
    "df13 = pd.read_csv('tobag/13491.csv')\n",
    "df14 = pd.read_csv('tobag/13550.csv')\n",
    "df15 = pd.read_csv('tobag/13580.csv')\n",
    "df16 = pd.read_csv('tobag/13913.csv')\n",
    "df17 = pd.read_csv('tobag/13945.csv')\n",
    "df18 = pd.read_csv('tobag/13962.csv')\n",
    "\n",
    "results = (df1.Sales * 0.985 + df2.Sales * 0.985 + df3.Sales * 0.985 + \\\n",
    "            df4.Sales * 0.985 + df5.Sales * 0.985 + df6.Sales * 0.985 + \\\n",
    "            df7.Sales * 0.985 + df8.Sales * 0.985 + df9.Sales * 0.985 + \\\n",
    "            df10.Sales * 0.985 + df11.Sales * 0.985 + df12.Sales * 0.985 + df13.Sales * 0.985 + \\\n",
    "            df14.Sales * 0.985 + df15.Sales * 0.985 + df16.Sales * 0.985 + \\\n",
    "            df17.Sales * 0.985 + df18.Sales) / 18.0\n",
    "            \n",
    "results = pd.DataFrame(results)\n",
    "results.T\n",
    "results.columns = ['Sales']\n",
    "results.index += 1\n",
    "results.to_csv('bagged.csv', index_label='Id')"
   ]
  },
  {
   "cell_type": "markdown",
   "metadata": {
    "slideshow": {
     "slide_type": "slide"
    }
   },
   "source": [
    "# Summary\n",
    "\n",
    "- Competing on Kaggle is fun\n",
    "- Competing on Kaggle is hard\n",
    "- Nuances matter\n",
    "- Clever ideas matter\n",
    "\n",
    "Notes for the next challenge:\n",
    "- Use VCS\n",
    "- Never ever ever ever stop using indexes in pandas :)\n",
    "- Read the forum more often"
   ]
  },
  {
   "cell_type": "markdown",
   "metadata": {
    "slideshow": {
     "slide_type": "slide"
    }
   },
   "source": [
    "Thanks to Laci and Gabi for organizing, to Robi for the expert contribution, to Hiflylabs for the food and drinks\n",
    "\n",
    "# Thank you for your attention!\n",
    "\n",
    "## Questions?"
   ]
  }
 ],
 "metadata": {
  "celltoolbar": "Slideshow",
  "kernelspec": {
   "display_name": "Python 3",
   "language": "python",
   "name": "python3"
  },
  "language_info": {
   "codemirror_mode": {
    "name": "ipython",
    "version": 3
   },
   "file_extension": ".py",
   "mimetype": "text/x-python",
   "name": "python",
   "nbconvert_exporter": "python",
   "pygments_lexer": "ipython3",
   "version": "3.4.3"
  }
 },
 "nbformat": 4,
 "nbformat_minor": 0
}
